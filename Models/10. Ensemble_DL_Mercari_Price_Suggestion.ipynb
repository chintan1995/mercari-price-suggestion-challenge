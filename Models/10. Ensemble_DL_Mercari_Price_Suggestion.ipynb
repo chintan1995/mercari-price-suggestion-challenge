{
  "nbformat": 4,
  "nbformat_minor": 0,
  "metadata": {
    "colab": {
      "name": "Ensemble_DL_Mercari_Price_Suggestion.ipynb",
      "provenance": [],
      "collapsed_sections": [
        "y-oIFq9H4F07",
        "T9jY8lshDZWU",
        "3XuxJYgA8X84",
        "QplH18PQMe0b",
        "5opYRiBm8ax4",
        "AvNDgAgr1MtL",
        "sxhdGdRxLJ6n",
        "NHNNPNxGD4nr",
        "VIYFv55Fy0jb",
        "O0LA9a3ZcTzG",
        "xpuksKS-_Th8",
        "PPNhrvqEVjJ9",
        "5JoRl40Lq1Ih",
        "_85mkexjrUbR",
        "NxHf_f4FrUbR",
        "z7OvsqZRrUbR",
        "evCzx_VWrUbR",
        "P3I6IxyWrUbR",
        "QnbcmCiirUbR",
        "yCkonxU1rUbR",
        "a_TjH19SddlN",
        "zSHET6QbC3_9",
        "DUSuy_wWrg-G"
      ],
      "machine_shape": "hm"
    },
    "kernelspec": {
      "name": "python3",
      "display_name": "Python 3"
    },
    "accelerator": "GPU",
    "widgets": {
      "application/vnd.jupyter.widget-state+json": {
        "fd4ead890c174b87a3443c2cb5807a1a": {
          "model_module": "@jupyter-widgets/controls",
          "model_name": "HBoxModel",
          "state": {
            "_view_name": "HBoxView",
            "_dom_classes": [],
            "_model_name": "HBoxModel",
            "_view_module": "@jupyter-widgets/controls",
            "_model_module_version": "1.5.0",
            "_view_count": null,
            "_view_module_version": "1.5.0",
            "box_style": "",
            "layout": "IPY_MODEL_08e74bcc2f054bf49e24fadcc6ef8611",
            "_model_module": "@jupyter-widgets/controls",
            "children": [
              "IPY_MODEL_d118516d7279415e8b619d3b84b44de5",
              "IPY_MODEL_83cab92a954d4cef8b69ea697b3d1011"
            ]
          }
        },
        "08e74bcc2f054bf49e24fadcc6ef8611": {
          "model_module": "@jupyter-widgets/base",
          "model_name": "LayoutModel",
          "state": {
            "_view_name": "LayoutView",
            "grid_template_rows": null,
            "right": null,
            "justify_content": null,
            "_view_module": "@jupyter-widgets/base",
            "overflow": null,
            "_model_module_version": "1.2.0",
            "_view_count": null,
            "flex_flow": null,
            "width": null,
            "min_width": null,
            "border": null,
            "align_items": null,
            "bottom": null,
            "_model_module": "@jupyter-widgets/base",
            "top": null,
            "grid_column": null,
            "overflow_y": null,
            "overflow_x": null,
            "grid_auto_flow": null,
            "grid_area": null,
            "grid_template_columns": null,
            "flex": null,
            "_model_name": "LayoutModel",
            "justify_items": null,
            "grid_row": null,
            "max_height": null,
            "align_content": null,
            "visibility": null,
            "align_self": null,
            "height": null,
            "min_height": null,
            "padding": null,
            "grid_auto_rows": null,
            "grid_gap": null,
            "max_width": null,
            "order": null,
            "_view_module_version": "1.2.0",
            "grid_template_areas": null,
            "object_position": null,
            "object_fit": null,
            "grid_auto_columns": null,
            "margin": null,
            "display": null,
            "left": null
          }
        },
        "d118516d7279415e8b619d3b84b44de5": {
          "model_module": "@jupyter-widgets/controls",
          "model_name": "FloatProgressModel",
          "state": {
            "_view_name": "ProgressView",
            "style": "IPY_MODEL_f3a3dd5c0c2344fe89a3faba41eda438",
            "_dom_classes": [],
            "description": "100%",
            "_model_name": "FloatProgressModel",
            "bar_style": "success",
            "max": 1157452,
            "_view_module": "@jupyter-widgets/controls",
            "_model_module_version": "1.5.0",
            "value": 1157452,
            "_view_count": null,
            "_view_module_version": "1.5.0",
            "orientation": "horizontal",
            "min": 0,
            "description_tooltip": null,
            "_model_module": "@jupyter-widgets/controls",
            "layout": "IPY_MODEL_b0b7503ae411442ea1938ceb3afc0336"
          }
        },
        "83cab92a954d4cef8b69ea697b3d1011": {
          "model_module": "@jupyter-widgets/controls",
          "model_name": "HTMLModel",
          "state": {
            "_view_name": "HTMLView",
            "style": "IPY_MODEL_824a986e8e2a46cf8084caa3764a0fc9",
            "_dom_classes": [],
            "description": "",
            "_model_name": "HTMLModel",
            "placeholder": "​",
            "_view_module": "@jupyter-widgets/controls",
            "_model_module_version": "1.5.0",
            "value": " 1157452/1157452 [12:56&lt;00:00, 1490.91it/s]",
            "_view_count": null,
            "_view_module_version": "1.5.0",
            "description_tooltip": null,
            "_model_module": "@jupyter-widgets/controls",
            "layout": "IPY_MODEL_47af4014fc1245daa4bdc925fb55a26b"
          }
        },
        "f3a3dd5c0c2344fe89a3faba41eda438": {
          "model_module": "@jupyter-widgets/controls",
          "model_name": "ProgressStyleModel",
          "state": {
            "_view_name": "StyleView",
            "_model_name": "ProgressStyleModel",
            "description_width": "initial",
            "_view_module": "@jupyter-widgets/base",
            "_model_module_version": "1.5.0",
            "_view_count": null,
            "_view_module_version": "1.2.0",
            "bar_color": null,
            "_model_module": "@jupyter-widgets/controls"
          }
        },
        "b0b7503ae411442ea1938ceb3afc0336": {
          "model_module": "@jupyter-widgets/base",
          "model_name": "LayoutModel",
          "state": {
            "_view_name": "LayoutView",
            "grid_template_rows": null,
            "right": null,
            "justify_content": null,
            "_view_module": "@jupyter-widgets/base",
            "overflow": null,
            "_model_module_version": "1.2.0",
            "_view_count": null,
            "flex_flow": null,
            "width": null,
            "min_width": null,
            "border": null,
            "align_items": null,
            "bottom": null,
            "_model_module": "@jupyter-widgets/base",
            "top": null,
            "grid_column": null,
            "overflow_y": null,
            "overflow_x": null,
            "grid_auto_flow": null,
            "grid_area": null,
            "grid_template_columns": null,
            "flex": null,
            "_model_name": "LayoutModel",
            "justify_items": null,
            "grid_row": null,
            "max_height": null,
            "align_content": null,
            "visibility": null,
            "align_self": null,
            "height": null,
            "min_height": null,
            "padding": null,
            "grid_auto_rows": null,
            "grid_gap": null,
            "max_width": null,
            "order": null,
            "_view_module_version": "1.2.0",
            "grid_template_areas": null,
            "object_position": null,
            "object_fit": null,
            "grid_auto_columns": null,
            "margin": null,
            "display": null,
            "left": null
          }
        },
        "824a986e8e2a46cf8084caa3764a0fc9": {
          "model_module": "@jupyter-widgets/controls",
          "model_name": "DescriptionStyleModel",
          "state": {
            "_view_name": "StyleView",
            "_model_name": "DescriptionStyleModel",
            "description_width": "",
            "_view_module": "@jupyter-widgets/base",
            "_model_module_version": "1.5.0",
            "_view_count": null,
            "_view_module_version": "1.2.0",
            "_model_module": "@jupyter-widgets/controls"
          }
        },
        "47af4014fc1245daa4bdc925fb55a26b": {
          "model_module": "@jupyter-widgets/base",
          "model_name": "LayoutModel",
          "state": {
            "_view_name": "LayoutView",
            "grid_template_rows": null,
            "right": null,
            "justify_content": null,
            "_view_module": "@jupyter-widgets/base",
            "overflow": null,
            "_model_module_version": "1.2.0",
            "_view_count": null,
            "flex_flow": null,
            "width": null,
            "min_width": null,
            "border": null,
            "align_items": null,
            "bottom": null,
            "_model_module": "@jupyter-widgets/base",
            "top": null,
            "grid_column": null,
            "overflow_y": null,
            "overflow_x": null,
            "grid_auto_flow": null,
            "grid_area": null,
            "grid_template_columns": null,
            "flex": null,
            "_model_name": "LayoutModel",
            "justify_items": null,
            "grid_row": null,
            "max_height": null,
            "align_content": null,
            "visibility": null,
            "align_self": null,
            "height": null,
            "min_height": null,
            "padding": null,
            "grid_auto_rows": null,
            "grid_gap": null,
            "max_width": null,
            "order": null,
            "_view_module_version": "1.2.0",
            "grid_template_areas": null,
            "object_position": null,
            "object_fit": null,
            "grid_auto_columns": null,
            "margin": null,
            "display": null,
            "left": null
          }
        },
        "d6f85da3d2bc4ef9a338f8713096a0a3": {
          "model_module": "@jupyter-widgets/controls",
          "model_name": "HBoxModel",
          "state": {
            "_view_name": "HBoxView",
            "_dom_classes": [],
            "_model_name": "HBoxModel",
            "_view_module": "@jupyter-widgets/controls",
            "_model_module_version": "1.5.0",
            "_view_count": null,
            "_view_module_version": "1.5.0",
            "box_style": "",
            "layout": "IPY_MODEL_d2b41826d95d49c896ed8b00fa4a098f",
            "_model_module": "@jupyter-widgets/controls",
            "children": [
              "IPY_MODEL_b60cf478082941a5bdde9d3a8f4b84e8",
              "IPY_MODEL_c8636a1df6d449afbb81a0f5c56b29fa"
            ]
          }
        },
        "d2b41826d95d49c896ed8b00fa4a098f": {
          "model_module": "@jupyter-widgets/base",
          "model_name": "LayoutModel",
          "state": {
            "_view_name": "LayoutView",
            "grid_template_rows": null,
            "right": null,
            "justify_content": null,
            "_view_module": "@jupyter-widgets/base",
            "overflow": null,
            "_model_module_version": "1.2.0",
            "_view_count": null,
            "flex_flow": null,
            "width": null,
            "min_width": null,
            "border": null,
            "align_items": null,
            "bottom": null,
            "_model_module": "@jupyter-widgets/base",
            "top": null,
            "grid_column": null,
            "overflow_y": null,
            "overflow_x": null,
            "grid_auto_flow": null,
            "grid_area": null,
            "grid_template_columns": null,
            "flex": null,
            "_model_name": "LayoutModel",
            "justify_items": null,
            "grid_row": null,
            "max_height": null,
            "align_content": null,
            "visibility": null,
            "align_self": null,
            "height": null,
            "min_height": null,
            "padding": null,
            "grid_auto_rows": null,
            "grid_gap": null,
            "max_width": null,
            "order": null,
            "_view_module_version": "1.2.0",
            "grid_template_areas": null,
            "object_position": null,
            "object_fit": null,
            "grid_auto_columns": null,
            "margin": null,
            "display": null,
            "left": null
          }
        },
        "b60cf478082941a5bdde9d3a8f4b84e8": {
          "model_module": "@jupyter-widgets/controls",
          "model_name": "FloatProgressModel",
          "state": {
            "_view_name": "ProgressView",
            "style": "IPY_MODEL_e005de8ad8804d10a20c71c59e876cd2",
            "_dom_classes": [],
            "description": "100%",
            "_model_name": "FloatProgressModel",
            "bar_style": "success",
            "max": 1157452,
            "_view_module": "@jupyter-widgets/controls",
            "_model_module_version": "1.5.0",
            "value": 1157452,
            "_view_count": null,
            "_view_module_version": "1.5.0",
            "orientation": "horizontal",
            "min": 0,
            "description_tooltip": null,
            "_model_module": "@jupyter-widgets/controls",
            "layout": "IPY_MODEL_720862fb2bbb403ab39cbdc4be31286d"
          }
        },
        "c8636a1df6d449afbb81a0f5c56b29fa": {
          "model_module": "@jupyter-widgets/controls",
          "model_name": "HTMLModel",
          "state": {
            "_view_name": "HTMLView",
            "style": "IPY_MODEL_c78b0a500d07472fbd8d608791922ef4",
            "_dom_classes": [],
            "description": "",
            "_model_name": "HTMLModel",
            "placeholder": "​",
            "_view_module": "@jupyter-widgets/controls",
            "_model_module_version": "1.5.0",
            "value": " 1157452/1157452 [08:24&lt;00:00, 2292.68it/s]",
            "_view_count": null,
            "_view_module_version": "1.5.0",
            "description_tooltip": null,
            "_model_module": "@jupyter-widgets/controls",
            "layout": "IPY_MODEL_d211398b359940efa31ad638add17813"
          }
        },
        "e005de8ad8804d10a20c71c59e876cd2": {
          "model_module": "@jupyter-widgets/controls",
          "model_name": "ProgressStyleModel",
          "state": {
            "_view_name": "StyleView",
            "_model_name": "ProgressStyleModel",
            "description_width": "initial",
            "_view_module": "@jupyter-widgets/base",
            "_model_module_version": "1.5.0",
            "_view_count": null,
            "_view_module_version": "1.2.0",
            "bar_color": null,
            "_model_module": "@jupyter-widgets/controls"
          }
        },
        "720862fb2bbb403ab39cbdc4be31286d": {
          "model_module": "@jupyter-widgets/base",
          "model_name": "LayoutModel",
          "state": {
            "_view_name": "LayoutView",
            "grid_template_rows": null,
            "right": null,
            "justify_content": null,
            "_view_module": "@jupyter-widgets/base",
            "overflow": null,
            "_model_module_version": "1.2.0",
            "_view_count": null,
            "flex_flow": null,
            "width": null,
            "min_width": null,
            "border": null,
            "align_items": null,
            "bottom": null,
            "_model_module": "@jupyter-widgets/base",
            "top": null,
            "grid_column": null,
            "overflow_y": null,
            "overflow_x": null,
            "grid_auto_flow": null,
            "grid_area": null,
            "grid_template_columns": null,
            "flex": null,
            "_model_name": "LayoutModel",
            "justify_items": null,
            "grid_row": null,
            "max_height": null,
            "align_content": null,
            "visibility": null,
            "align_self": null,
            "height": null,
            "min_height": null,
            "padding": null,
            "grid_auto_rows": null,
            "grid_gap": null,
            "max_width": null,
            "order": null,
            "_view_module_version": "1.2.0",
            "grid_template_areas": null,
            "object_position": null,
            "object_fit": null,
            "grid_auto_columns": null,
            "margin": null,
            "display": null,
            "left": null
          }
        },
        "c78b0a500d07472fbd8d608791922ef4": {
          "model_module": "@jupyter-widgets/controls",
          "model_name": "DescriptionStyleModel",
          "state": {
            "_view_name": "StyleView",
            "_model_name": "DescriptionStyleModel",
            "description_width": "",
            "_view_module": "@jupyter-widgets/base",
            "_model_module_version": "1.5.0",
            "_view_count": null,
            "_view_module_version": "1.2.0",
            "_model_module": "@jupyter-widgets/controls"
          }
        },
        "d211398b359940efa31ad638add17813": {
          "model_module": "@jupyter-widgets/base",
          "model_name": "LayoutModel",
          "state": {
            "_view_name": "LayoutView",
            "grid_template_rows": null,
            "right": null,
            "justify_content": null,
            "_view_module": "@jupyter-widgets/base",
            "overflow": null,
            "_model_module_version": "1.2.0",
            "_view_count": null,
            "flex_flow": null,
            "width": null,
            "min_width": null,
            "border": null,
            "align_items": null,
            "bottom": null,
            "_model_module": "@jupyter-widgets/base",
            "top": null,
            "grid_column": null,
            "overflow_y": null,
            "overflow_x": null,
            "grid_auto_flow": null,
            "grid_area": null,
            "grid_template_columns": null,
            "flex": null,
            "_model_name": "LayoutModel",
            "justify_items": null,
            "grid_row": null,
            "max_height": null,
            "align_content": null,
            "visibility": null,
            "align_self": null,
            "height": null,
            "min_height": null,
            "padding": null,
            "grid_auto_rows": null,
            "grid_gap": null,
            "max_width": null,
            "order": null,
            "_view_module_version": "1.2.0",
            "grid_template_areas": null,
            "object_position": null,
            "object_fit": null,
            "grid_auto_columns": null,
            "margin": null,
            "display": null,
            "left": null
          }
        },
        "dfb4993bcf1740e9ba75b0c46a715937": {
          "model_module": "@jupyter-widgets/controls",
          "model_name": "HBoxModel",
          "state": {
            "_view_name": "HBoxView",
            "_dom_classes": [],
            "_model_name": "HBoxModel",
            "_view_module": "@jupyter-widgets/controls",
            "_model_module_version": "1.5.0",
            "_view_count": null,
            "_view_module_version": "1.5.0",
            "box_style": "",
            "layout": "IPY_MODEL_f00dacebe0f249c0b15eac2d5702af17",
            "_model_module": "@jupyter-widgets/controls",
            "children": [
              "IPY_MODEL_46c7a8572805486d9bb583166669ec46",
              "IPY_MODEL_ce81f247449c4ebc84c7317724e18458"
            ]
          }
        },
        "f00dacebe0f249c0b15eac2d5702af17": {
          "model_module": "@jupyter-widgets/base",
          "model_name": "LayoutModel",
          "state": {
            "_view_name": "LayoutView",
            "grid_template_rows": null,
            "right": null,
            "justify_content": null,
            "_view_module": "@jupyter-widgets/base",
            "overflow": null,
            "_model_module_version": "1.2.0",
            "_view_count": null,
            "flex_flow": null,
            "width": null,
            "min_width": null,
            "border": null,
            "align_items": null,
            "bottom": null,
            "_model_module": "@jupyter-widgets/base",
            "top": null,
            "grid_column": null,
            "overflow_y": null,
            "overflow_x": null,
            "grid_auto_flow": null,
            "grid_area": null,
            "grid_template_columns": null,
            "flex": null,
            "_model_name": "LayoutModel",
            "justify_items": null,
            "grid_row": null,
            "max_height": null,
            "align_content": null,
            "visibility": null,
            "align_self": null,
            "height": null,
            "min_height": null,
            "padding": null,
            "grid_auto_rows": null,
            "grid_gap": null,
            "max_width": null,
            "order": null,
            "_view_module_version": "1.2.0",
            "grid_template_areas": null,
            "object_position": null,
            "object_fit": null,
            "grid_auto_columns": null,
            "margin": null,
            "display": null,
            "left": null
          }
        },
        "46c7a8572805486d9bb583166669ec46": {
          "model_module": "@jupyter-widgets/controls",
          "model_name": "FloatProgressModel",
          "state": {
            "_view_name": "ProgressView",
            "style": "IPY_MODEL_0adb20092fde43e498054380b8150ae0",
            "_dom_classes": [],
            "description": "100%",
            "_model_name": "FloatProgressModel",
            "bar_style": "success",
            "max": 1157452,
            "_view_module": "@jupyter-widgets/controls",
            "_model_module_version": "1.5.0",
            "value": 1157452,
            "_view_count": null,
            "_view_module_version": "1.5.0",
            "orientation": "horizontal",
            "min": 0,
            "description_tooltip": null,
            "_model_module": "@jupyter-widgets/controls",
            "layout": "IPY_MODEL_7ff7f2ea576e4c98bdf4869ebc87805a"
          }
        },
        "ce81f247449c4ebc84c7317724e18458": {
          "model_module": "@jupyter-widgets/controls",
          "model_name": "HTMLModel",
          "state": {
            "_view_name": "HTMLView",
            "style": "IPY_MODEL_41d214bb7efc4e6293196f3e272e2247",
            "_dom_classes": [],
            "description": "",
            "_model_name": "HTMLModel",
            "placeholder": "​",
            "_view_module": "@jupyter-widgets/controls",
            "_model_module_version": "1.5.0",
            "value": " 1157452/1157452 [00:01&lt;00:00, 664251.53it/s]",
            "_view_count": null,
            "_view_module_version": "1.5.0",
            "description_tooltip": null,
            "_model_module": "@jupyter-widgets/controls",
            "layout": "IPY_MODEL_74602008d02b4aabbe87655b29609f9b"
          }
        },
        "0adb20092fde43e498054380b8150ae0": {
          "model_module": "@jupyter-widgets/controls",
          "model_name": "ProgressStyleModel",
          "state": {
            "_view_name": "StyleView",
            "_model_name": "ProgressStyleModel",
            "description_width": "initial",
            "_view_module": "@jupyter-widgets/base",
            "_model_module_version": "1.5.0",
            "_view_count": null,
            "_view_module_version": "1.2.0",
            "bar_color": null,
            "_model_module": "@jupyter-widgets/controls"
          }
        },
        "7ff7f2ea576e4c98bdf4869ebc87805a": {
          "model_module": "@jupyter-widgets/base",
          "model_name": "LayoutModel",
          "state": {
            "_view_name": "LayoutView",
            "grid_template_rows": null,
            "right": null,
            "justify_content": null,
            "_view_module": "@jupyter-widgets/base",
            "overflow": null,
            "_model_module_version": "1.2.0",
            "_view_count": null,
            "flex_flow": null,
            "width": null,
            "min_width": null,
            "border": null,
            "align_items": null,
            "bottom": null,
            "_model_module": "@jupyter-widgets/base",
            "top": null,
            "grid_column": null,
            "overflow_y": null,
            "overflow_x": null,
            "grid_auto_flow": null,
            "grid_area": null,
            "grid_template_columns": null,
            "flex": null,
            "_model_name": "LayoutModel",
            "justify_items": null,
            "grid_row": null,
            "max_height": null,
            "align_content": null,
            "visibility": null,
            "align_self": null,
            "height": null,
            "min_height": null,
            "padding": null,
            "grid_auto_rows": null,
            "grid_gap": null,
            "max_width": null,
            "order": null,
            "_view_module_version": "1.2.0",
            "grid_template_areas": null,
            "object_position": null,
            "object_fit": null,
            "grid_auto_columns": null,
            "margin": null,
            "display": null,
            "left": null
          }
        },
        "41d214bb7efc4e6293196f3e272e2247": {
          "model_module": "@jupyter-widgets/controls",
          "model_name": "DescriptionStyleModel",
          "state": {
            "_view_name": "StyleView",
            "_model_name": "DescriptionStyleModel",
            "description_width": "",
            "_view_module": "@jupyter-widgets/base",
            "_model_module_version": "1.5.0",
            "_view_count": null,
            "_view_module_version": "1.2.0",
            "_model_module": "@jupyter-widgets/controls"
          }
        },
        "74602008d02b4aabbe87655b29609f9b": {
          "model_module": "@jupyter-widgets/base",
          "model_name": "LayoutModel",
          "state": {
            "_view_name": "LayoutView",
            "grid_template_rows": null,
            "right": null,
            "justify_content": null,
            "_view_module": "@jupyter-widgets/base",
            "overflow": null,
            "_model_module_version": "1.2.0",
            "_view_count": null,
            "flex_flow": null,
            "width": null,
            "min_width": null,
            "border": null,
            "align_items": null,
            "bottom": null,
            "_model_module": "@jupyter-widgets/base",
            "top": null,
            "grid_column": null,
            "overflow_y": null,
            "overflow_x": null,
            "grid_auto_flow": null,
            "grid_area": null,
            "grid_template_columns": null,
            "flex": null,
            "_model_name": "LayoutModel",
            "justify_items": null,
            "grid_row": null,
            "max_height": null,
            "align_content": null,
            "visibility": null,
            "align_self": null,
            "height": null,
            "min_height": null,
            "padding": null,
            "grid_auto_rows": null,
            "grid_gap": null,
            "max_width": null,
            "order": null,
            "_view_module_version": "1.2.0",
            "grid_template_areas": null,
            "object_position": null,
            "object_fit": null,
            "grid_auto_columns": null,
            "margin": null,
            "display": null,
            "left": null
          }
        },
        "39e46ffacb97416a85d132b058668e3d": {
          "model_module": "@jupyter-widgets/controls",
          "model_name": "HBoxModel",
          "state": {
            "_view_name": "HBoxView",
            "_dom_classes": [],
            "_model_name": "HBoxModel",
            "_view_module": "@jupyter-widgets/controls",
            "_model_module_version": "1.5.0",
            "_view_count": null,
            "_view_module_version": "1.5.0",
            "box_style": "",
            "layout": "IPY_MODEL_7880502738994885a26d07bccd776b1f",
            "_model_module": "@jupyter-widgets/controls",
            "children": [
              "IPY_MODEL_2016fb3f376e484996c5b755b8eb74e4",
              "IPY_MODEL_4d5b6d43f2644ae5ad6bb336706d5fce"
            ]
          }
        },
        "7880502738994885a26d07bccd776b1f": {
          "model_module": "@jupyter-widgets/base",
          "model_name": "LayoutModel",
          "state": {
            "_view_name": "LayoutView",
            "grid_template_rows": null,
            "right": null,
            "justify_content": null,
            "_view_module": "@jupyter-widgets/base",
            "overflow": null,
            "_model_module_version": "1.2.0",
            "_view_count": null,
            "flex_flow": null,
            "width": null,
            "min_width": null,
            "border": null,
            "align_items": null,
            "bottom": null,
            "_model_module": "@jupyter-widgets/base",
            "top": null,
            "grid_column": null,
            "overflow_y": null,
            "overflow_x": null,
            "grid_auto_flow": null,
            "grid_area": null,
            "grid_template_columns": null,
            "flex": null,
            "_model_name": "LayoutModel",
            "justify_items": null,
            "grid_row": null,
            "max_height": null,
            "align_content": null,
            "visibility": null,
            "align_self": null,
            "height": null,
            "min_height": null,
            "padding": null,
            "grid_auto_rows": null,
            "grid_gap": null,
            "max_width": null,
            "order": null,
            "_view_module_version": "1.2.0",
            "grid_template_areas": null,
            "object_position": null,
            "object_fit": null,
            "grid_auto_columns": null,
            "margin": null,
            "display": null,
            "left": null
          }
        },
        "2016fb3f376e484996c5b755b8eb74e4": {
          "model_module": "@jupyter-widgets/controls",
          "model_name": "FloatProgressModel",
          "state": {
            "_view_name": "ProgressView",
            "style": "IPY_MODEL_79e1ce9906ee457f82974fe8bf28e504",
            "_dom_classes": [],
            "description": "100%",
            "_model_name": "FloatProgressModel",
            "bar_style": "success",
            "max": 1157452,
            "_view_module": "@jupyter-widgets/controls",
            "_model_module_version": "1.5.0",
            "value": 1157452,
            "_view_count": null,
            "_view_module_version": "1.5.0",
            "orientation": "horizontal",
            "min": 0,
            "description_tooltip": null,
            "_model_module": "@jupyter-widgets/controls",
            "layout": "IPY_MODEL_0be9c67ddd7648f49e110013ebf3a2c5"
          }
        },
        "4d5b6d43f2644ae5ad6bb336706d5fce": {
          "model_module": "@jupyter-widgets/controls",
          "model_name": "HTMLModel",
          "state": {
            "_view_name": "HTMLView",
            "style": "IPY_MODEL_3563eb0f232c494eb968810bfdf3fd38",
            "_dom_classes": [],
            "description": "",
            "_model_name": "HTMLModel",
            "placeholder": "​",
            "_view_module": "@jupyter-widgets/controls",
            "_model_module_version": "1.5.0",
            "value": " 1157452/1157452 [1:00:47&lt;00:00, 317.35it/s]",
            "_view_count": null,
            "_view_module_version": "1.5.0",
            "description_tooltip": null,
            "_model_module": "@jupyter-widgets/controls",
            "layout": "IPY_MODEL_841dbdb27e0043e7adfcf4cb8e0bed25"
          }
        },
        "79e1ce9906ee457f82974fe8bf28e504": {
          "model_module": "@jupyter-widgets/controls",
          "model_name": "ProgressStyleModel",
          "state": {
            "_view_name": "StyleView",
            "_model_name": "ProgressStyleModel",
            "description_width": "initial",
            "_view_module": "@jupyter-widgets/base",
            "_model_module_version": "1.5.0",
            "_view_count": null,
            "_view_module_version": "1.2.0",
            "bar_color": null,
            "_model_module": "@jupyter-widgets/controls"
          }
        },
        "0be9c67ddd7648f49e110013ebf3a2c5": {
          "model_module": "@jupyter-widgets/base",
          "model_name": "LayoutModel",
          "state": {
            "_view_name": "LayoutView",
            "grid_template_rows": null,
            "right": null,
            "justify_content": null,
            "_view_module": "@jupyter-widgets/base",
            "overflow": null,
            "_model_module_version": "1.2.0",
            "_view_count": null,
            "flex_flow": null,
            "width": null,
            "min_width": null,
            "border": null,
            "align_items": null,
            "bottom": null,
            "_model_module": "@jupyter-widgets/base",
            "top": null,
            "grid_column": null,
            "overflow_y": null,
            "overflow_x": null,
            "grid_auto_flow": null,
            "grid_area": null,
            "grid_template_columns": null,
            "flex": null,
            "_model_name": "LayoutModel",
            "justify_items": null,
            "grid_row": null,
            "max_height": null,
            "align_content": null,
            "visibility": null,
            "align_self": null,
            "height": null,
            "min_height": null,
            "padding": null,
            "grid_auto_rows": null,
            "grid_gap": null,
            "max_width": null,
            "order": null,
            "_view_module_version": "1.2.0",
            "grid_template_areas": null,
            "object_position": null,
            "object_fit": null,
            "grid_auto_columns": null,
            "margin": null,
            "display": null,
            "left": null
          }
        },
        "3563eb0f232c494eb968810bfdf3fd38": {
          "model_module": "@jupyter-widgets/controls",
          "model_name": "DescriptionStyleModel",
          "state": {
            "_view_name": "StyleView",
            "_model_name": "DescriptionStyleModel",
            "description_width": "",
            "_view_module": "@jupyter-widgets/base",
            "_model_module_version": "1.5.0",
            "_view_count": null,
            "_view_module_version": "1.2.0",
            "_model_module": "@jupyter-widgets/controls"
          }
        },
        "841dbdb27e0043e7adfcf4cb8e0bed25": {
          "model_module": "@jupyter-widgets/base",
          "model_name": "LayoutModel",
          "state": {
            "_view_name": "LayoutView",
            "grid_template_rows": null,
            "right": null,
            "justify_content": null,
            "_view_module": "@jupyter-widgets/base",
            "overflow": null,
            "_model_module_version": "1.2.0",
            "_view_count": null,
            "flex_flow": null,
            "width": null,
            "min_width": null,
            "border": null,
            "align_items": null,
            "bottom": null,
            "_model_module": "@jupyter-widgets/base",
            "top": null,
            "grid_column": null,
            "overflow_y": null,
            "overflow_x": null,
            "grid_auto_flow": null,
            "grid_area": null,
            "grid_template_columns": null,
            "flex": null,
            "_model_name": "LayoutModel",
            "justify_items": null,
            "grid_row": null,
            "max_height": null,
            "align_content": null,
            "visibility": null,
            "align_self": null,
            "height": null,
            "min_height": null,
            "padding": null,
            "grid_auto_rows": null,
            "grid_gap": null,
            "max_width": null,
            "order": null,
            "_view_module_version": "1.2.0",
            "grid_template_areas": null,
            "object_position": null,
            "object_fit": null,
            "grid_auto_columns": null,
            "margin": null,
            "display": null,
            "left": null
          }
        },
        "b031992e04154400bbb875252afd588d": {
          "model_module": "@jupyter-widgets/controls",
          "model_name": "HBoxModel",
          "state": {
            "_view_name": "HBoxView",
            "_dom_classes": [],
            "_model_name": "HBoxModel",
            "_view_module": "@jupyter-widgets/controls",
            "_model_module_version": "1.5.0",
            "_view_count": null,
            "_view_module_version": "1.5.0",
            "box_style": "",
            "layout": "IPY_MODEL_46b942a7bbdb4ede89b1dedbaf230222",
            "_model_module": "@jupyter-widgets/controls",
            "children": [
              "IPY_MODEL_227fe8c62c774cd99b705e9ddfbdbfc8",
              "IPY_MODEL_1c072d92a4824c0da499a57e8943c871"
            ]
          }
        },
        "46b942a7bbdb4ede89b1dedbaf230222": {
          "model_module": "@jupyter-widgets/base",
          "model_name": "LayoutModel",
          "state": {
            "_view_name": "LayoutView",
            "grid_template_rows": null,
            "right": null,
            "justify_content": null,
            "_view_module": "@jupyter-widgets/base",
            "overflow": null,
            "_model_module_version": "1.2.0",
            "_view_count": null,
            "flex_flow": null,
            "width": null,
            "min_width": null,
            "border": null,
            "align_items": null,
            "bottom": null,
            "_model_module": "@jupyter-widgets/base",
            "top": null,
            "grid_column": null,
            "overflow_y": null,
            "overflow_x": null,
            "grid_auto_flow": null,
            "grid_area": null,
            "grid_template_columns": null,
            "flex": null,
            "_model_name": "LayoutModel",
            "justify_items": null,
            "grid_row": null,
            "max_height": null,
            "align_content": null,
            "visibility": null,
            "align_self": null,
            "height": null,
            "min_height": null,
            "padding": null,
            "grid_auto_rows": null,
            "grid_gap": null,
            "max_width": null,
            "order": null,
            "_view_module_version": "1.2.0",
            "grid_template_areas": null,
            "object_position": null,
            "object_fit": null,
            "grid_auto_columns": null,
            "margin": null,
            "display": null,
            "left": null
          }
        },
        "227fe8c62c774cd99b705e9ddfbdbfc8": {
          "model_module": "@jupyter-widgets/controls",
          "model_name": "FloatProgressModel",
          "state": {
            "_view_name": "ProgressView",
            "style": "IPY_MODEL_e40eca97166f4dfcae2982a24dc0445d",
            "_dom_classes": [],
            "description": "100%",
            "_model_name": "FloatProgressModel",
            "bar_style": "success",
            "max": 3460725,
            "_view_module": "@jupyter-widgets/controls",
            "_model_module_version": "1.5.0",
            "value": 3460725,
            "_view_count": null,
            "_view_module_version": "1.5.0",
            "orientation": "horizontal",
            "min": 0,
            "description_tooltip": null,
            "_model_module": "@jupyter-widgets/controls",
            "layout": "IPY_MODEL_204199c647b7406f92e64f0c5565f112"
          }
        },
        "1c072d92a4824c0da499a57e8943c871": {
          "model_module": "@jupyter-widgets/controls",
          "model_name": "HTMLModel",
          "state": {
            "_view_name": "HTMLView",
            "style": "IPY_MODEL_30b3c5af985e4f75b71785a4ac09518b",
            "_dom_classes": [],
            "description": "",
            "_model_name": "HTMLModel",
            "placeholder": "​",
            "_view_module": "@jupyter-widgets/controls",
            "_model_module_version": "1.5.0",
            "value": " 3460725/3460725 [52:55&lt;00:00, 1089.90it/s]",
            "_view_count": null,
            "_view_module_version": "1.5.0",
            "description_tooltip": null,
            "_model_module": "@jupyter-widgets/controls",
            "layout": "IPY_MODEL_b60cd0e7ebf040928fcd6135695beebf"
          }
        },
        "e40eca97166f4dfcae2982a24dc0445d": {
          "model_module": "@jupyter-widgets/controls",
          "model_name": "ProgressStyleModel",
          "state": {
            "_view_name": "StyleView",
            "_model_name": "ProgressStyleModel",
            "description_width": "initial",
            "_view_module": "@jupyter-widgets/base",
            "_model_module_version": "1.5.0",
            "_view_count": null,
            "_view_module_version": "1.2.0",
            "bar_color": null,
            "_model_module": "@jupyter-widgets/controls"
          }
        },
        "204199c647b7406f92e64f0c5565f112": {
          "model_module": "@jupyter-widgets/base",
          "model_name": "LayoutModel",
          "state": {
            "_view_name": "LayoutView",
            "grid_template_rows": null,
            "right": null,
            "justify_content": null,
            "_view_module": "@jupyter-widgets/base",
            "overflow": null,
            "_model_module_version": "1.2.0",
            "_view_count": null,
            "flex_flow": null,
            "width": null,
            "min_width": null,
            "border": null,
            "align_items": null,
            "bottom": null,
            "_model_module": "@jupyter-widgets/base",
            "top": null,
            "grid_column": null,
            "overflow_y": null,
            "overflow_x": null,
            "grid_auto_flow": null,
            "grid_area": null,
            "grid_template_columns": null,
            "flex": null,
            "_model_name": "LayoutModel",
            "justify_items": null,
            "grid_row": null,
            "max_height": null,
            "align_content": null,
            "visibility": null,
            "align_self": null,
            "height": null,
            "min_height": null,
            "padding": null,
            "grid_auto_rows": null,
            "grid_gap": null,
            "max_width": null,
            "order": null,
            "_view_module_version": "1.2.0",
            "grid_template_areas": null,
            "object_position": null,
            "object_fit": null,
            "grid_auto_columns": null,
            "margin": null,
            "display": null,
            "left": null
          }
        },
        "30b3c5af985e4f75b71785a4ac09518b": {
          "model_module": "@jupyter-widgets/controls",
          "model_name": "DescriptionStyleModel",
          "state": {
            "_view_name": "StyleView",
            "_model_name": "DescriptionStyleModel",
            "description_width": "",
            "_view_module": "@jupyter-widgets/base",
            "_model_module_version": "1.5.0",
            "_view_count": null,
            "_view_module_version": "1.2.0",
            "_model_module": "@jupyter-widgets/controls"
          }
        },
        "b60cd0e7ebf040928fcd6135695beebf": {
          "model_module": "@jupyter-widgets/base",
          "model_name": "LayoutModel",
          "state": {
            "_view_name": "LayoutView",
            "grid_template_rows": null,
            "right": null,
            "justify_content": null,
            "_view_module": "@jupyter-widgets/base",
            "overflow": null,
            "_model_module_version": "1.2.0",
            "_view_count": null,
            "flex_flow": null,
            "width": null,
            "min_width": null,
            "border": null,
            "align_items": null,
            "bottom": null,
            "_model_module": "@jupyter-widgets/base",
            "top": null,
            "grid_column": null,
            "overflow_y": null,
            "overflow_x": null,
            "grid_auto_flow": null,
            "grid_area": null,
            "grid_template_columns": null,
            "flex": null,
            "_model_name": "LayoutModel",
            "justify_items": null,
            "grid_row": null,
            "max_height": null,
            "align_content": null,
            "visibility": null,
            "align_self": null,
            "height": null,
            "min_height": null,
            "padding": null,
            "grid_auto_rows": null,
            "grid_gap": null,
            "max_width": null,
            "order": null,
            "_view_module_version": "1.2.0",
            "grid_template_areas": null,
            "object_position": null,
            "object_fit": null,
            "grid_auto_columns": null,
            "margin": null,
            "display": null,
            "left": null
          }
        },
        "b672b046a1504076a8df4f4cba30d5c3": {
          "model_module": "@jupyter-widgets/controls",
          "model_name": "HBoxModel",
          "state": {
            "_view_name": "HBoxView",
            "_dom_classes": [],
            "_model_name": "HBoxModel",
            "_view_module": "@jupyter-widgets/controls",
            "_model_module_version": "1.5.0",
            "_view_count": null,
            "_view_module_version": "1.5.0",
            "box_style": "",
            "layout": "IPY_MODEL_7e5c24555c7b4d70b200cb3db723dce3",
            "_model_module": "@jupyter-widgets/controls",
            "children": [
              "IPY_MODEL_a7c2ca02df874e7287d4c7754db2d182",
              "IPY_MODEL_1363db88549e4db18a6900ac58850763"
            ]
          }
        },
        "7e5c24555c7b4d70b200cb3db723dce3": {
          "model_module": "@jupyter-widgets/base",
          "model_name": "LayoutModel",
          "state": {
            "_view_name": "LayoutView",
            "grid_template_rows": null,
            "right": null,
            "justify_content": null,
            "_view_module": "@jupyter-widgets/base",
            "overflow": null,
            "_model_module_version": "1.2.0",
            "_view_count": null,
            "flex_flow": null,
            "width": null,
            "min_width": null,
            "border": null,
            "align_items": null,
            "bottom": null,
            "_model_module": "@jupyter-widgets/base",
            "top": null,
            "grid_column": null,
            "overflow_y": null,
            "overflow_x": null,
            "grid_auto_flow": null,
            "grid_area": null,
            "grid_template_columns": null,
            "flex": null,
            "_model_name": "LayoutModel",
            "justify_items": null,
            "grid_row": null,
            "max_height": null,
            "align_content": null,
            "visibility": null,
            "align_self": null,
            "height": null,
            "min_height": null,
            "padding": null,
            "grid_auto_rows": null,
            "grid_gap": null,
            "max_width": null,
            "order": null,
            "_view_module_version": "1.2.0",
            "grid_template_areas": null,
            "object_position": null,
            "object_fit": null,
            "grid_auto_columns": null,
            "margin": null,
            "display": null,
            "left": null
          }
        },
        "a7c2ca02df874e7287d4c7754db2d182": {
          "model_module": "@jupyter-widgets/controls",
          "model_name": "FloatProgressModel",
          "state": {
            "_view_name": "ProgressView",
            "style": "IPY_MODEL_2b7dc60cf8124eb482118c83708d6ac2",
            "_dom_classes": [],
            "description": "100%",
            "_model_name": "FloatProgressModel",
            "bar_style": "success",
            "max": 3460725,
            "_view_module": "@jupyter-widgets/controls",
            "_model_module_version": "1.5.0",
            "value": 3460725,
            "_view_count": null,
            "_view_module_version": "1.5.0",
            "orientation": "horizontal",
            "min": 0,
            "description_tooltip": null,
            "_model_module": "@jupyter-widgets/controls",
            "layout": "IPY_MODEL_978a9c3a33a84105baa7ca0159a1fd98"
          }
        },
        "1363db88549e4db18a6900ac58850763": {
          "model_module": "@jupyter-widgets/controls",
          "model_name": "HTMLModel",
          "state": {
            "_view_name": "HTMLView",
            "style": "IPY_MODEL_043949ea9fd445d695ce28862cbe3cbf",
            "_dom_classes": [],
            "description": "",
            "_model_name": "HTMLModel",
            "placeholder": "​",
            "_view_module": "@jupyter-widgets/controls",
            "_model_module_version": "1.5.0",
            "value": " 3460725/3460725 [24:38&lt;00:00, 2340.83it/s]",
            "_view_count": null,
            "_view_module_version": "1.5.0",
            "description_tooltip": null,
            "_model_module": "@jupyter-widgets/controls",
            "layout": "IPY_MODEL_7918404d999d45b79f93d1c98f5aeec9"
          }
        },
        "2b7dc60cf8124eb482118c83708d6ac2": {
          "model_module": "@jupyter-widgets/controls",
          "model_name": "ProgressStyleModel",
          "state": {
            "_view_name": "StyleView",
            "_model_name": "ProgressStyleModel",
            "description_width": "initial",
            "_view_module": "@jupyter-widgets/base",
            "_model_module_version": "1.5.0",
            "_view_count": null,
            "_view_module_version": "1.2.0",
            "bar_color": null,
            "_model_module": "@jupyter-widgets/controls"
          }
        },
        "978a9c3a33a84105baa7ca0159a1fd98": {
          "model_module": "@jupyter-widgets/base",
          "model_name": "LayoutModel",
          "state": {
            "_view_name": "LayoutView",
            "grid_template_rows": null,
            "right": null,
            "justify_content": null,
            "_view_module": "@jupyter-widgets/base",
            "overflow": null,
            "_model_module_version": "1.2.0",
            "_view_count": null,
            "flex_flow": null,
            "width": null,
            "min_width": null,
            "border": null,
            "align_items": null,
            "bottom": null,
            "_model_module": "@jupyter-widgets/base",
            "top": null,
            "grid_column": null,
            "overflow_y": null,
            "overflow_x": null,
            "grid_auto_flow": null,
            "grid_area": null,
            "grid_template_columns": null,
            "flex": null,
            "_model_name": "LayoutModel",
            "justify_items": null,
            "grid_row": null,
            "max_height": null,
            "align_content": null,
            "visibility": null,
            "align_self": null,
            "height": null,
            "min_height": null,
            "padding": null,
            "grid_auto_rows": null,
            "grid_gap": null,
            "max_width": null,
            "order": null,
            "_view_module_version": "1.2.0",
            "grid_template_areas": null,
            "object_position": null,
            "object_fit": null,
            "grid_auto_columns": null,
            "margin": null,
            "display": null,
            "left": null
          }
        },
        "043949ea9fd445d695ce28862cbe3cbf": {
          "model_module": "@jupyter-widgets/controls",
          "model_name": "DescriptionStyleModel",
          "state": {
            "_view_name": "StyleView",
            "_model_name": "DescriptionStyleModel",
            "description_width": "",
            "_view_module": "@jupyter-widgets/base",
            "_model_module_version": "1.5.0",
            "_view_count": null,
            "_view_module_version": "1.2.0",
            "_model_module": "@jupyter-widgets/controls"
          }
        },
        "7918404d999d45b79f93d1c98f5aeec9": {
          "model_module": "@jupyter-widgets/base",
          "model_name": "LayoutModel",
          "state": {
            "_view_name": "LayoutView",
            "grid_template_rows": null,
            "right": null,
            "justify_content": null,
            "_view_module": "@jupyter-widgets/base",
            "overflow": null,
            "_model_module_version": "1.2.0",
            "_view_count": null,
            "flex_flow": null,
            "width": null,
            "min_width": null,
            "border": null,
            "align_items": null,
            "bottom": null,
            "_model_module": "@jupyter-widgets/base",
            "top": null,
            "grid_column": null,
            "overflow_y": null,
            "overflow_x": null,
            "grid_auto_flow": null,
            "grid_area": null,
            "grid_template_columns": null,
            "flex": null,
            "_model_name": "LayoutModel",
            "justify_items": null,
            "grid_row": null,
            "max_height": null,
            "align_content": null,
            "visibility": null,
            "align_self": null,
            "height": null,
            "min_height": null,
            "padding": null,
            "grid_auto_rows": null,
            "grid_gap": null,
            "max_width": null,
            "order": null,
            "_view_module_version": "1.2.0",
            "grid_template_areas": null,
            "object_position": null,
            "object_fit": null,
            "grid_auto_columns": null,
            "margin": null,
            "display": null,
            "left": null
          }
        },
        "d274333bab2140a7b5b112316d9b485e": {
          "model_module": "@jupyter-widgets/controls",
          "model_name": "HBoxModel",
          "state": {
            "_view_name": "HBoxView",
            "_dom_classes": [],
            "_model_name": "HBoxModel",
            "_view_module": "@jupyter-widgets/controls",
            "_model_module_version": "1.5.0",
            "_view_count": null,
            "_view_module_version": "1.5.0",
            "box_style": "",
            "layout": "IPY_MODEL_2473cf02b6ec42ddb41503549c760bcd",
            "_model_module": "@jupyter-widgets/controls",
            "children": [
              "IPY_MODEL_779f2cd9f59f4c55adb12835db2ec6e9",
              "IPY_MODEL_66895aeab0eb454083e6e90d645f116a"
            ]
          }
        },
        "2473cf02b6ec42ddb41503549c760bcd": {
          "model_module": "@jupyter-widgets/base",
          "model_name": "LayoutModel",
          "state": {
            "_view_name": "LayoutView",
            "grid_template_rows": null,
            "right": null,
            "justify_content": null,
            "_view_module": "@jupyter-widgets/base",
            "overflow": null,
            "_model_module_version": "1.2.0",
            "_view_count": null,
            "flex_flow": null,
            "width": null,
            "min_width": null,
            "border": null,
            "align_items": null,
            "bottom": null,
            "_model_module": "@jupyter-widgets/base",
            "top": null,
            "grid_column": null,
            "overflow_y": null,
            "overflow_x": null,
            "grid_auto_flow": null,
            "grid_area": null,
            "grid_template_columns": null,
            "flex": null,
            "_model_name": "LayoutModel",
            "justify_items": null,
            "grid_row": null,
            "max_height": null,
            "align_content": null,
            "visibility": null,
            "align_self": null,
            "height": null,
            "min_height": null,
            "padding": null,
            "grid_auto_rows": null,
            "grid_gap": null,
            "max_width": null,
            "order": null,
            "_view_module_version": "1.2.0",
            "grid_template_areas": null,
            "object_position": null,
            "object_fit": null,
            "grid_auto_columns": null,
            "margin": null,
            "display": null,
            "left": null
          }
        },
        "779f2cd9f59f4c55adb12835db2ec6e9": {
          "model_module": "@jupyter-widgets/controls",
          "model_name": "FloatProgressModel",
          "state": {
            "_view_name": "ProgressView",
            "style": "IPY_MODEL_32f837dfffd646e0b8285018cf4321f1",
            "_dom_classes": [],
            "description": "100%",
            "_model_name": "FloatProgressModel",
            "bar_style": "success",
            "max": 3460725,
            "_view_module": "@jupyter-widgets/controls",
            "_model_module_version": "1.5.0",
            "value": 3460725,
            "_view_count": null,
            "_view_module_version": "1.5.0",
            "orientation": "horizontal",
            "min": 0,
            "description_tooltip": null,
            "_model_module": "@jupyter-widgets/controls",
            "layout": "IPY_MODEL_c9d6c529458e404a95b268364f90b844"
          }
        },
        "66895aeab0eb454083e6e90d645f116a": {
          "model_module": "@jupyter-widgets/controls",
          "model_name": "HTMLModel",
          "state": {
            "_view_name": "HTMLView",
            "style": "IPY_MODEL_47b8bd7721e34d84a63486fba0a82f55",
            "_dom_classes": [],
            "description": "",
            "_model_name": "HTMLModel",
            "placeholder": "​",
            "_view_module": "@jupyter-widgets/controls",
            "_model_module_version": "1.5.0",
            "value": " 3460725/3460725 [14:32&lt;00:00, 3966.17it/s]",
            "_view_count": null,
            "_view_module_version": "1.5.0",
            "description_tooltip": null,
            "_model_module": "@jupyter-widgets/controls",
            "layout": "IPY_MODEL_6f5ebd2d6da447e88b24c7fed567cb0f"
          }
        },
        "32f837dfffd646e0b8285018cf4321f1": {
          "model_module": "@jupyter-widgets/controls",
          "model_name": "ProgressStyleModel",
          "state": {
            "_view_name": "StyleView",
            "_model_name": "ProgressStyleModel",
            "description_width": "initial",
            "_view_module": "@jupyter-widgets/base",
            "_model_module_version": "1.5.0",
            "_view_count": null,
            "_view_module_version": "1.2.0",
            "bar_color": null,
            "_model_module": "@jupyter-widgets/controls"
          }
        },
        "c9d6c529458e404a95b268364f90b844": {
          "model_module": "@jupyter-widgets/base",
          "model_name": "LayoutModel",
          "state": {
            "_view_name": "LayoutView",
            "grid_template_rows": null,
            "right": null,
            "justify_content": null,
            "_view_module": "@jupyter-widgets/base",
            "overflow": null,
            "_model_module_version": "1.2.0",
            "_view_count": null,
            "flex_flow": null,
            "width": null,
            "min_width": null,
            "border": null,
            "align_items": null,
            "bottom": null,
            "_model_module": "@jupyter-widgets/base",
            "top": null,
            "grid_column": null,
            "overflow_y": null,
            "overflow_x": null,
            "grid_auto_flow": null,
            "grid_area": null,
            "grid_template_columns": null,
            "flex": null,
            "_model_name": "LayoutModel",
            "justify_items": null,
            "grid_row": null,
            "max_height": null,
            "align_content": null,
            "visibility": null,
            "align_self": null,
            "height": null,
            "min_height": null,
            "padding": null,
            "grid_auto_rows": null,
            "grid_gap": null,
            "max_width": null,
            "order": null,
            "_view_module_version": "1.2.0",
            "grid_template_areas": null,
            "object_position": null,
            "object_fit": null,
            "grid_auto_columns": null,
            "margin": null,
            "display": null,
            "left": null
          }
        },
        "47b8bd7721e34d84a63486fba0a82f55": {
          "model_module": "@jupyter-widgets/controls",
          "model_name": "DescriptionStyleModel",
          "state": {
            "_view_name": "StyleView",
            "_model_name": "DescriptionStyleModel",
            "description_width": "",
            "_view_module": "@jupyter-widgets/base",
            "_model_module_version": "1.5.0",
            "_view_count": null,
            "_view_module_version": "1.2.0",
            "_model_module": "@jupyter-widgets/controls"
          }
        },
        "6f5ebd2d6da447e88b24c7fed567cb0f": {
          "model_module": "@jupyter-widgets/base",
          "model_name": "LayoutModel",
          "state": {
            "_view_name": "LayoutView",
            "grid_template_rows": null,
            "right": null,
            "justify_content": null,
            "_view_module": "@jupyter-widgets/base",
            "overflow": null,
            "_model_module_version": "1.2.0",
            "_view_count": null,
            "flex_flow": null,
            "width": null,
            "min_width": null,
            "border": null,
            "align_items": null,
            "bottom": null,
            "_model_module": "@jupyter-widgets/base",
            "top": null,
            "grid_column": null,
            "overflow_y": null,
            "overflow_x": null,
            "grid_auto_flow": null,
            "grid_area": null,
            "grid_template_columns": null,
            "flex": null,
            "_model_name": "LayoutModel",
            "justify_items": null,
            "grid_row": null,
            "max_height": null,
            "align_content": null,
            "visibility": null,
            "align_self": null,
            "height": null,
            "min_height": null,
            "padding": null,
            "grid_auto_rows": null,
            "grid_gap": null,
            "max_width": null,
            "order": null,
            "_view_module_version": "1.2.0",
            "grid_template_areas": null,
            "object_position": null,
            "object_fit": null,
            "grid_auto_columns": null,
            "margin": null,
            "display": null,
            "left": null
          }
        },
        "c5e2b0edbb694650950e3808564b3ed8": {
          "model_module": "@jupyter-widgets/controls",
          "model_name": "HBoxModel",
          "state": {
            "_view_name": "HBoxView",
            "_dom_classes": [],
            "_model_name": "HBoxModel",
            "_view_module": "@jupyter-widgets/controls",
            "_model_module_version": "1.5.0",
            "_view_count": null,
            "_view_module_version": "1.5.0",
            "box_style": "",
            "layout": "IPY_MODEL_c6110807a3d34f18bfec5ed761c739bf",
            "_model_module": "@jupyter-widgets/controls",
            "children": [
              "IPY_MODEL_33deebd5bf9247f09488c89647714cd3",
              "IPY_MODEL_d6083f082c7e46b2a3a6b8a72417d75a"
            ]
          }
        },
        "c6110807a3d34f18bfec5ed761c739bf": {
          "model_module": "@jupyter-widgets/base",
          "model_name": "LayoutModel",
          "state": {
            "_view_name": "LayoutView",
            "grid_template_rows": null,
            "right": null,
            "justify_content": null,
            "_view_module": "@jupyter-widgets/base",
            "overflow": null,
            "_model_module_version": "1.2.0",
            "_view_count": null,
            "flex_flow": null,
            "width": null,
            "min_width": null,
            "border": null,
            "align_items": null,
            "bottom": null,
            "_model_module": "@jupyter-widgets/base",
            "top": null,
            "grid_column": null,
            "overflow_y": null,
            "overflow_x": null,
            "grid_auto_flow": null,
            "grid_area": null,
            "grid_template_columns": null,
            "flex": null,
            "_model_name": "LayoutModel",
            "justify_items": null,
            "grid_row": null,
            "max_height": null,
            "align_content": null,
            "visibility": null,
            "align_self": null,
            "height": null,
            "min_height": null,
            "padding": null,
            "grid_auto_rows": null,
            "grid_gap": null,
            "max_width": null,
            "order": null,
            "_view_module_version": "1.2.0",
            "grid_template_areas": null,
            "object_position": null,
            "object_fit": null,
            "grid_auto_columns": null,
            "margin": null,
            "display": null,
            "left": null
          }
        },
        "33deebd5bf9247f09488c89647714cd3": {
          "model_module": "@jupyter-widgets/controls",
          "model_name": "FloatProgressModel",
          "state": {
            "_view_name": "ProgressView",
            "style": "IPY_MODEL_31d4f36619c5479b90e3abbbfdfe499b",
            "_dom_classes": [],
            "description": "100%",
            "_model_name": "FloatProgressModel",
            "bar_style": "success",
            "max": 3460725,
            "_view_module": "@jupyter-widgets/controls",
            "_model_module_version": "1.5.0",
            "value": 3460725,
            "_view_count": null,
            "_view_module_version": "1.5.0",
            "orientation": "horizontal",
            "min": 0,
            "description_tooltip": null,
            "_model_module": "@jupyter-widgets/controls",
            "layout": "IPY_MODEL_1cb1a66099c64bdca9fefe471e8bfe71"
          }
        },
        "d6083f082c7e46b2a3a6b8a72417d75a": {
          "model_module": "@jupyter-widgets/controls",
          "model_name": "HTMLModel",
          "state": {
            "_view_name": "HTMLView",
            "style": "IPY_MODEL_b9eea635a78640b6a0f0b9da502a85b7",
            "_dom_classes": [],
            "description": "",
            "_model_name": "HTMLModel",
            "placeholder": "​",
            "_view_module": "@jupyter-widgets/controls",
            "_model_module_version": "1.5.0",
            "value": " 3460725/3460725 [22:52&lt;00:00, 2521.09it/s]",
            "_view_count": null,
            "_view_module_version": "1.5.0",
            "description_tooltip": null,
            "_model_module": "@jupyter-widgets/controls",
            "layout": "IPY_MODEL_1678334ae14d44ee829aacb1ceadb1f0"
          }
        },
        "31d4f36619c5479b90e3abbbfdfe499b": {
          "model_module": "@jupyter-widgets/controls",
          "model_name": "ProgressStyleModel",
          "state": {
            "_view_name": "StyleView",
            "_model_name": "ProgressStyleModel",
            "description_width": "initial",
            "_view_module": "@jupyter-widgets/base",
            "_model_module_version": "1.5.0",
            "_view_count": null,
            "_view_module_version": "1.2.0",
            "bar_color": null,
            "_model_module": "@jupyter-widgets/controls"
          }
        },
        "1cb1a66099c64bdca9fefe471e8bfe71": {
          "model_module": "@jupyter-widgets/base",
          "model_name": "LayoutModel",
          "state": {
            "_view_name": "LayoutView",
            "grid_template_rows": null,
            "right": null,
            "justify_content": null,
            "_view_module": "@jupyter-widgets/base",
            "overflow": null,
            "_model_module_version": "1.2.0",
            "_view_count": null,
            "flex_flow": null,
            "width": null,
            "min_width": null,
            "border": null,
            "align_items": null,
            "bottom": null,
            "_model_module": "@jupyter-widgets/base",
            "top": null,
            "grid_column": null,
            "overflow_y": null,
            "overflow_x": null,
            "grid_auto_flow": null,
            "grid_area": null,
            "grid_template_columns": null,
            "flex": null,
            "_model_name": "LayoutModel",
            "justify_items": null,
            "grid_row": null,
            "max_height": null,
            "align_content": null,
            "visibility": null,
            "align_self": null,
            "height": null,
            "min_height": null,
            "padding": null,
            "grid_auto_rows": null,
            "grid_gap": null,
            "max_width": null,
            "order": null,
            "_view_module_version": "1.2.0",
            "grid_template_areas": null,
            "object_position": null,
            "object_fit": null,
            "grid_auto_columns": null,
            "margin": null,
            "display": null,
            "left": null
          }
        },
        "b9eea635a78640b6a0f0b9da502a85b7": {
          "model_module": "@jupyter-widgets/controls",
          "model_name": "DescriptionStyleModel",
          "state": {
            "_view_name": "StyleView",
            "_model_name": "DescriptionStyleModel",
            "description_width": "",
            "_view_module": "@jupyter-widgets/base",
            "_model_module_version": "1.5.0",
            "_view_count": null,
            "_view_module_version": "1.2.0",
            "_model_module": "@jupyter-widgets/controls"
          }
        },
        "1678334ae14d44ee829aacb1ceadb1f0": {
          "model_module": "@jupyter-widgets/base",
          "model_name": "LayoutModel",
          "state": {
            "_view_name": "LayoutView",
            "grid_template_rows": null,
            "right": null,
            "justify_content": null,
            "_view_module": "@jupyter-widgets/base",
            "overflow": null,
            "_model_module_version": "1.2.0",
            "_view_count": null,
            "flex_flow": null,
            "width": null,
            "min_width": null,
            "border": null,
            "align_items": null,
            "bottom": null,
            "_model_module": "@jupyter-widgets/base",
            "top": null,
            "grid_column": null,
            "overflow_y": null,
            "overflow_x": null,
            "grid_auto_flow": null,
            "grid_area": null,
            "grid_template_columns": null,
            "flex": null,
            "_model_name": "LayoutModel",
            "justify_items": null,
            "grid_row": null,
            "max_height": null,
            "align_content": null,
            "visibility": null,
            "align_self": null,
            "height": null,
            "min_height": null,
            "padding": null,
            "grid_auto_rows": null,
            "grid_gap": null,
            "max_width": null,
            "order": null,
            "_view_module_version": "1.2.0",
            "grid_template_areas": null,
            "object_position": null,
            "object_fit": null,
            "grid_auto_columns": null,
            "margin": null,
            "display": null,
            "left": null
          }
        },
        "293736d3f96847578031bd47a89f0e93": {
          "model_module": "@jupyter-widgets/controls",
          "model_name": "HBoxModel",
          "state": {
            "_view_name": "HBoxView",
            "_dom_classes": [],
            "_model_name": "HBoxModel",
            "_view_module": "@jupyter-widgets/controls",
            "_model_module_version": "1.5.0",
            "_view_count": null,
            "_view_module_version": "1.5.0",
            "box_style": "",
            "layout": "IPY_MODEL_9ef5973572d3417ab7f48462c5fef56c",
            "_model_module": "@jupyter-widgets/controls",
            "children": [
              "IPY_MODEL_97c13af2762146d08d3238035276ed9d",
              "IPY_MODEL_3398a192859f4473a79e510541474e7e"
            ]
          }
        },
        "9ef5973572d3417ab7f48462c5fef56c": {
          "model_module": "@jupyter-widgets/base",
          "model_name": "LayoutModel",
          "state": {
            "_view_name": "LayoutView",
            "grid_template_rows": null,
            "right": null,
            "justify_content": null,
            "_view_module": "@jupyter-widgets/base",
            "overflow": null,
            "_model_module_version": "1.2.0",
            "_view_count": null,
            "flex_flow": null,
            "width": null,
            "min_width": null,
            "border": null,
            "align_items": null,
            "bottom": null,
            "_model_module": "@jupyter-widgets/base",
            "top": null,
            "grid_column": null,
            "overflow_y": null,
            "overflow_x": null,
            "grid_auto_flow": null,
            "grid_area": null,
            "grid_template_columns": null,
            "flex": null,
            "_model_name": "LayoutModel",
            "justify_items": null,
            "grid_row": null,
            "max_height": null,
            "align_content": null,
            "visibility": null,
            "align_self": null,
            "height": null,
            "min_height": null,
            "padding": null,
            "grid_auto_rows": null,
            "grid_gap": null,
            "max_width": null,
            "order": null,
            "_view_module_version": "1.2.0",
            "grid_template_areas": null,
            "object_position": null,
            "object_fit": null,
            "grid_auto_columns": null,
            "margin": null,
            "display": null,
            "left": null
          }
        },
        "97c13af2762146d08d3238035276ed9d": {
          "model_module": "@jupyter-widgets/controls",
          "model_name": "FloatProgressModel",
          "state": {
            "_view_name": "ProgressView",
            "style": "IPY_MODEL_4f934e36c5fd411ebccf5c9160d10453",
            "_dom_classes": [],
            "description": "100%",
            "_model_name": "FloatProgressModel",
            "bar_style": "success",
            "max": 3460725,
            "_view_module": "@jupyter-widgets/controls",
            "_model_module_version": "1.5.0",
            "value": 3460725,
            "_view_count": null,
            "_view_module_version": "1.5.0",
            "orientation": "horizontal",
            "min": 0,
            "description_tooltip": null,
            "_model_module": "@jupyter-widgets/controls",
            "layout": "IPY_MODEL_9dcf48cc48864aa1b64920193481d483"
          }
        },
        "3398a192859f4473a79e510541474e7e": {
          "model_module": "@jupyter-widgets/controls",
          "model_name": "HTMLModel",
          "state": {
            "_view_name": "HTMLView",
            "style": "IPY_MODEL_5cb70a4286f34656a2ddaefcb1802ea3",
            "_dom_classes": [],
            "description": "",
            "_model_name": "HTMLModel",
            "placeholder": "​",
            "_view_module": "@jupyter-widgets/controls",
            "_model_module_version": "1.5.0",
            "value": " 3460725/3460725 [04:07&lt;00:00, 13968.67it/s]",
            "_view_count": null,
            "_view_module_version": "1.5.0",
            "description_tooltip": null,
            "_model_module": "@jupyter-widgets/controls",
            "layout": "IPY_MODEL_fd3727c03f44416a8acf859612cce726"
          }
        },
        "4f934e36c5fd411ebccf5c9160d10453": {
          "model_module": "@jupyter-widgets/controls",
          "model_name": "ProgressStyleModel",
          "state": {
            "_view_name": "StyleView",
            "_model_name": "ProgressStyleModel",
            "description_width": "initial",
            "_view_module": "@jupyter-widgets/base",
            "_model_module_version": "1.5.0",
            "_view_count": null,
            "_view_module_version": "1.2.0",
            "bar_color": null,
            "_model_module": "@jupyter-widgets/controls"
          }
        },
        "9dcf48cc48864aa1b64920193481d483": {
          "model_module": "@jupyter-widgets/base",
          "model_name": "LayoutModel",
          "state": {
            "_view_name": "LayoutView",
            "grid_template_rows": null,
            "right": null,
            "justify_content": null,
            "_view_module": "@jupyter-widgets/base",
            "overflow": null,
            "_model_module_version": "1.2.0",
            "_view_count": null,
            "flex_flow": null,
            "width": null,
            "min_width": null,
            "border": null,
            "align_items": null,
            "bottom": null,
            "_model_module": "@jupyter-widgets/base",
            "top": null,
            "grid_column": null,
            "overflow_y": null,
            "overflow_x": null,
            "grid_auto_flow": null,
            "grid_area": null,
            "grid_template_columns": null,
            "flex": null,
            "_model_name": "LayoutModel",
            "justify_items": null,
            "grid_row": null,
            "max_height": null,
            "align_content": null,
            "visibility": null,
            "align_self": null,
            "height": null,
            "min_height": null,
            "padding": null,
            "grid_auto_rows": null,
            "grid_gap": null,
            "max_width": null,
            "order": null,
            "_view_module_version": "1.2.0",
            "grid_template_areas": null,
            "object_position": null,
            "object_fit": null,
            "grid_auto_columns": null,
            "margin": null,
            "display": null,
            "left": null
          }
        },
        "5cb70a4286f34656a2ddaefcb1802ea3": {
          "model_module": "@jupyter-widgets/controls",
          "model_name": "DescriptionStyleModel",
          "state": {
            "_view_name": "StyleView",
            "_model_name": "DescriptionStyleModel",
            "description_width": "",
            "_view_module": "@jupyter-widgets/base",
            "_model_module_version": "1.5.0",
            "_view_count": null,
            "_view_module_version": "1.2.0",
            "_model_module": "@jupyter-widgets/controls"
          }
        },
        "fd3727c03f44416a8acf859612cce726": {
          "model_module": "@jupyter-widgets/base",
          "model_name": "LayoutModel",
          "state": {
            "_view_name": "LayoutView",
            "grid_template_rows": null,
            "right": null,
            "justify_content": null,
            "_view_module": "@jupyter-widgets/base",
            "overflow": null,
            "_model_module_version": "1.2.0",
            "_view_count": null,
            "flex_flow": null,
            "width": null,
            "min_width": null,
            "border": null,
            "align_items": null,
            "bottom": null,
            "_model_module": "@jupyter-widgets/base",
            "top": null,
            "grid_column": null,
            "overflow_y": null,
            "overflow_x": null,
            "grid_auto_flow": null,
            "grid_area": null,
            "grid_template_columns": null,
            "flex": null,
            "_model_name": "LayoutModel",
            "justify_items": null,
            "grid_row": null,
            "max_height": null,
            "align_content": null,
            "visibility": null,
            "align_self": null,
            "height": null,
            "min_height": null,
            "padding": null,
            "grid_auto_rows": null,
            "grid_gap": null,
            "max_width": null,
            "order": null,
            "_view_module_version": "1.2.0",
            "grid_template_areas": null,
            "object_position": null,
            "object_fit": null,
            "grid_auto_columns": null,
            "margin": null,
            "display": null,
            "left": null
          }
        },
        "e676ffcfc40449ebb188a2edadbd0137": {
          "model_module": "@jupyter-widgets/controls",
          "model_name": "HBoxModel",
          "state": {
            "_view_name": "HBoxView",
            "_dom_classes": [],
            "_model_name": "HBoxModel",
            "_view_module": "@jupyter-widgets/controls",
            "_model_module_version": "1.5.0",
            "_view_count": null,
            "_view_module_version": "1.5.0",
            "box_style": "",
            "layout": "IPY_MODEL_c83d5d1ac7a4440d982842cdcd00c2af",
            "_model_module": "@jupyter-widgets/controls",
            "children": [
              "IPY_MODEL_bd1c197c5d7341a8b11772c4161e6237",
              "IPY_MODEL_97d7b07fe40b4595b6897677bff1a82c"
            ]
          }
        },
        "c83d5d1ac7a4440d982842cdcd00c2af": {
          "model_module": "@jupyter-widgets/base",
          "model_name": "LayoutModel",
          "state": {
            "_view_name": "LayoutView",
            "grid_template_rows": null,
            "right": null,
            "justify_content": null,
            "_view_module": "@jupyter-widgets/base",
            "overflow": null,
            "_model_module_version": "1.2.0",
            "_view_count": null,
            "flex_flow": null,
            "width": null,
            "min_width": null,
            "border": null,
            "align_items": null,
            "bottom": null,
            "_model_module": "@jupyter-widgets/base",
            "top": null,
            "grid_column": null,
            "overflow_y": null,
            "overflow_x": null,
            "grid_auto_flow": null,
            "grid_area": null,
            "grid_template_columns": null,
            "flex": null,
            "_model_name": "LayoutModel",
            "justify_items": null,
            "grid_row": null,
            "max_height": null,
            "align_content": null,
            "visibility": null,
            "align_self": null,
            "height": null,
            "min_height": null,
            "padding": null,
            "grid_auto_rows": null,
            "grid_gap": null,
            "max_width": null,
            "order": null,
            "_view_module_version": "1.2.0",
            "grid_template_areas": null,
            "object_position": null,
            "object_fit": null,
            "grid_auto_columns": null,
            "margin": null,
            "display": null,
            "left": null
          }
        },
        "bd1c197c5d7341a8b11772c4161e6237": {
          "model_module": "@jupyter-widgets/controls",
          "model_name": "FloatProgressModel",
          "state": {
            "_view_name": "ProgressView",
            "style": "IPY_MODEL_06c117184b614f9b916bf445347aee12",
            "_dom_classes": [],
            "description": "100%",
            "_model_name": "FloatProgressModel",
            "bar_style": "success",
            "max": 3460725,
            "_view_module": "@jupyter-widgets/controls",
            "_model_module_version": "1.5.0",
            "value": 3460725,
            "_view_count": null,
            "_view_module_version": "1.5.0",
            "orientation": "horizontal",
            "min": 0,
            "description_tooltip": null,
            "_model_module": "@jupyter-widgets/controls",
            "layout": "IPY_MODEL_1f5baba55f5b40fc98cd400a620a3782"
          }
        },
        "97d7b07fe40b4595b6897677bff1a82c": {
          "model_module": "@jupyter-widgets/controls",
          "model_name": "HTMLModel",
          "state": {
            "_view_name": "HTMLView",
            "style": "IPY_MODEL_75b3713f619a4a1b99a767e194ffc722",
            "_dom_classes": [],
            "description": "",
            "_model_name": "HTMLModel",
            "placeholder": "​",
            "_view_module": "@jupyter-widgets/controls",
            "_model_module_version": "1.5.0",
            "value": " 3460725/3460725 [01:30&lt;00:00, 38072.87it/s]",
            "_view_count": null,
            "_view_module_version": "1.5.0",
            "description_tooltip": null,
            "_model_module": "@jupyter-widgets/controls",
            "layout": "IPY_MODEL_0f4ab89517404c848e14e235cdca40d1"
          }
        },
        "06c117184b614f9b916bf445347aee12": {
          "model_module": "@jupyter-widgets/controls",
          "model_name": "ProgressStyleModel",
          "state": {
            "_view_name": "StyleView",
            "_model_name": "ProgressStyleModel",
            "description_width": "initial",
            "_view_module": "@jupyter-widgets/base",
            "_model_module_version": "1.5.0",
            "_view_count": null,
            "_view_module_version": "1.2.0",
            "bar_color": null,
            "_model_module": "@jupyter-widgets/controls"
          }
        },
        "1f5baba55f5b40fc98cd400a620a3782": {
          "model_module": "@jupyter-widgets/base",
          "model_name": "LayoutModel",
          "state": {
            "_view_name": "LayoutView",
            "grid_template_rows": null,
            "right": null,
            "justify_content": null,
            "_view_module": "@jupyter-widgets/base",
            "overflow": null,
            "_model_module_version": "1.2.0",
            "_view_count": null,
            "flex_flow": null,
            "width": null,
            "min_width": null,
            "border": null,
            "align_items": null,
            "bottom": null,
            "_model_module": "@jupyter-widgets/base",
            "top": null,
            "grid_column": null,
            "overflow_y": null,
            "overflow_x": null,
            "grid_auto_flow": null,
            "grid_area": null,
            "grid_template_columns": null,
            "flex": null,
            "_model_name": "LayoutModel",
            "justify_items": null,
            "grid_row": null,
            "max_height": null,
            "align_content": null,
            "visibility": null,
            "align_self": null,
            "height": null,
            "min_height": null,
            "padding": null,
            "grid_auto_rows": null,
            "grid_gap": null,
            "max_width": null,
            "order": null,
            "_view_module_version": "1.2.0",
            "grid_template_areas": null,
            "object_position": null,
            "object_fit": null,
            "grid_auto_columns": null,
            "margin": null,
            "display": null,
            "left": null
          }
        },
        "75b3713f619a4a1b99a767e194ffc722": {
          "model_module": "@jupyter-widgets/controls",
          "model_name": "DescriptionStyleModel",
          "state": {
            "_view_name": "StyleView",
            "_model_name": "DescriptionStyleModel",
            "description_width": "",
            "_view_module": "@jupyter-widgets/base",
            "_model_module_version": "1.5.0",
            "_view_count": null,
            "_view_module_version": "1.2.0",
            "_model_module": "@jupyter-widgets/controls"
          }
        },
        "0f4ab89517404c848e14e235cdca40d1": {
          "model_module": "@jupyter-widgets/base",
          "model_name": "LayoutModel",
          "state": {
            "_view_name": "LayoutView",
            "grid_template_rows": null,
            "right": null,
            "justify_content": null,
            "_view_module": "@jupyter-widgets/base",
            "overflow": null,
            "_model_module_version": "1.2.0",
            "_view_count": null,
            "flex_flow": null,
            "width": null,
            "min_width": null,
            "border": null,
            "align_items": null,
            "bottom": null,
            "_model_module": "@jupyter-widgets/base",
            "top": null,
            "grid_column": null,
            "overflow_y": null,
            "overflow_x": null,
            "grid_auto_flow": null,
            "grid_area": null,
            "grid_template_columns": null,
            "flex": null,
            "_model_name": "LayoutModel",
            "justify_items": null,
            "grid_row": null,
            "max_height": null,
            "align_content": null,
            "visibility": null,
            "align_self": null,
            "height": null,
            "min_height": null,
            "padding": null,
            "grid_auto_rows": null,
            "grid_gap": null,
            "max_width": null,
            "order": null,
            "_view_module_version": "1.2.0",
            "grid_template_areas": null,
            "object_position": null,
            "object_fit": null,
            "grid_auto_columns": null,
            "margin": null,
            "display": null,
            "left": null
          }
        },
        "04fc324c827a40d9b3d300a0e2004f9a": {
          "model_module": "@jupyter-widgets/controls",
          "model_name": "HBoxModel",
          "state": {
            "_view_name": "HBoxView",
            "_dom_classes": [],
            "_model_name": "HBoxModel",
            "_view_module": "@jupyter-widgets/controls",
            "_model_module_version": "1.5.0",
            "_view_count": null,
            "_view_module_version": "1.5.0",
            "box_style": "",
            "layout": "IPY_MODEL_162b96bbcf944e2ca19d8d89dabb7750",
            "_model_module": "@jupyter-widgets/controls",
            "children": [
              "IPY_MODEL_f05575a73f4647b0b93d9279b8c84bc3",
              "IPY_MODEL_e1bdcc577fd643af8b88ec94fa5d3eff"
            ]
          }
        },
        "162b96bbcf944e2ca19d8d89dabb7750": {
          "model_module": "@jupyter-widgets/base",
          "model_name": "LayoutModel",
          "state": {
            "_view_name": "LayoutView",
            "grid_template_rows": null,
            "right": null,
            "justify_content": null,
            "_view_module": "@jupyter-widgets/base",
            "overflow": null,
            "_model_module_version": "1.2.0",
            "_view_count": null,
            "flex_flow": null,
            "width": null,
            "min_width": null,
            "border": null,
            "align_items": null,
            "bottom": null,
            "_model_module": "@jupyter-widgets/base",
            "top": null,
            "grid_column": null,
            "overflow_y": null,
            "overflow_x": null,
            "grid_auto_flow": null,
            "grid_area": null,
            "grid_template_columns": null,
            "flex": null,
            "_model_name": "LayoutModel",
            "justify_items": null,
            "grid_row": null,
            "max_height": null,
            "align_content": null,
            "visibility": null,
            "align_self": null,
            "height": null,
            "min_height": null,
            "padding": null,
            "grid_auto_rows": null,
            "grid_gap": null,
            "max_width": null,
            "order": null,
            "_view_module_version": "1.2.0",
            "grid_template_areas": null,
            "object_position": null,
            "object_fit": null,
            "grid_auto_columns": null,
            "margin": null,
            "display": null,
            "left": null
          }
        },
        "f05575a73f4647b0b93d9279b8c84bc3": {
          "model_module": "@jupyter-widgets/controls",
          "model_name": "FloatProgressModel",
          "state": {
            "_view_name": "ProgressView",
            "style": "IPY_MODEL_b34a5a0f502845b0942d0db79c50716f",
            "_dom_classes": [],
            "description": "100%",
            "_model_name": "FloatProgressModel",
            "bar_style": "success",
            "max": 3460725,
            "_view_module": "@jupyter-widgets/controls",
            "_model_module_version": "1.5.0",
            "value": 3460725,
            "_view_count": null,
            "_view_module_version": "1.5.0",
            "orientation": "horizontal",
            "min": 0,
            "description_tooltip": null,
            "_model_module": "@jupyter-widgets/controls",
            "layout": "IPY_MODEL_0cfdcb2f801c423787403047e00f0a83"
          }
        },
        "e1bdcc577fd643af8b88ec94fa5d3eff": {
          "model_module": "@jupyter-widgets/controls",
          "model_name": "HTMLModel",
          "state": {
            "_view_name": "HTMLView",
            "style": "IPY_MODEL_0758f804f2cc42a6a52d162f9a6f1709",
            "_dom_classes": [],
            "description": "",
            "_model_name": "HTMLModel",
            "placeholder": "​",
            "_view_module": "@jupyter-widgets/controls",
            "_model_module_version": "1.5.0",
            "value": " 3460725/3460725 [00:29&lt;00:00, 116247.35it/s]",
            "_view_count": null,
            "_view_module_version": "1.5.0",
            "description_tooltip": null,
            "_model_module": "@jupyter-widgets/controls",
            "layout": "IPY_MODEL_70bf0b4db9d846458fae6271f4b958b9"
          }
        },
        "b34a5a0f502845b0942d0db79c50716f": {
          "model_module": "@jupyter-widgets/controls",
          "model_name": "ProgressStyleModel",
          "state": {
            "_view_name": "StyleView",
            "_model_name": "ProgressStyleModel",
            "description_width": "initial",
            "_view_module": "@jupyter-widgets/base",
            "_model_module_version": "1.5.0",
            "_view_count": null,
            "_view_module_version": "1.2.0",
            "bar_color": null,
            "_model_module": "@jupyter-widgets/controls"
          }
        },
        "0cfdcb2f801c423787403047e00f0a83": {
          "model_module": "@jupyter-widgets/base",
          "model_name": "LayoutModel",
          "state": {
            "_view_name": "LayoutView",
            "grid_template_rows": null,
            "right": null,
            "justify_content": null,
            "_view_module": "@jupyter-widgets/base",
            "overflow": null,
            "_model_module_version": "1.2.0",
            "_view_count": null,
            "flex_flow": null,
            "width": null,
            "min_width": null,
            "border": null,
            "align_items": null,
            "bottom": null,
            "_model_module": "@jupyter-widgets/base",
            "top": null,
            "grid_column": null,
            "overflow_y": null,
            "overflow_x": null,
            "grid_auto_flow": null,
            "grid_area": null,
            "grid_template_columns": null,
            "flex": null,
            "_model_name": "LayoutModel",
            "justify_items": null,
            "grid_row": null,
            "max_height": null,
            "align_content": null,
            "visibility": null,
            "align_self": null,
            "height": null,
            "min_height": null,
            "padding": null,
            "grid_auto_rows": null,
            "grid_gap": null,
            "max_width": null,
            "order": null,
            "_view_module_version": "1.2.0",
            "grid_template_areas": null,
            "object_position": null,
            "object_fit": null,
            "grid_auto_columns": null,
            "margin": null,
            "display": null,
            "left": null
          }
        },
        "0758f804f2cc42a6a52d162f9a6f1709": {
          "model_module": "@jupyter-widgets/controls",
          "model_name": "DescriptionStyleModel",
          "state": {
            "_view_name": "StyleView",
            "_model_name": "DescriptionStyleModel",
            "description_width": "",
            "_view_module": "@jupyter-widgets/base",
            "_model_module_version": "1.5.0",
            "_view_count": null,
            "_view_module_version": "1.2.0",
            "_model_module": "@jupyter-widgets/controls"
          }
        },
        "70bf0b4db9d846458fae6271f4b958b9": {
          "model_module": "@jupyter-widgets/base",
          "model_name": "LayoutModel",
          "state": {
            "_view_name": "LayoutView",
            "grid_template_rows": null,
            "right": null,
            "justify_content": null,
            "_view_module": "@jupyter-widgets/base",
            "overflow": null,
            "_model_module_version": "1.2.0",
            "_view_count": null,
            "flex_flow": null,
            "width": null,
            "min_width": null,
            "border": null,
            "align_items": null,
            "bottom": null,
            "_model_module": "@jupyter-widgets/base",
            "top": null,
            "grid_column": null,
            "overflow_y": null,
            "overflow_x": null,
            "grid_auto_flow": null,
            "grid_area": null,
            "grid_template_columns": null,
            "flex": null,
            "_model_name": "LayoutModel",
            "justify_items": null,
            "grid_row": null,
            "max_height": null,
            "align_content": null,
            "visibility": null,
            "align_self": null,
            "height": null,
            "min_height": null,
            "padding": null,
            "grid_auto_rows": null,
            "grid_gap": null,
            "max_width": null,
            "order": null,
            "_view_module_version": "1.2.0",
            "grid_template_areas": null,
            "object_position": null,
            "object_fit": null,
            "grid_auto_columns": null,
            "margin": null,
            "display": null,
            "left": null
          }
        },
        "9f039f3c1f7d49468a432901e6f06032": {
          "model_module": "@jupyter-widgets/controls",
          "model_name": "HBoxModel",
          "state": {
            "_view_name": "HBoxView",
            "_dom_classes": [],
            "_model_name": "HBoxModel",
            "_view_module": "@jupyter-widgets/controls",
            "_model_module_version": "1.5.0",
            "_view_count": null,
            "_view_module_version": "1.5.0",
            "box_style": "",
            "layout": "IPY_MODEL_0521b78aceed49528a3b934282d856f5",
            "_model_module": "@jupyter-widgets/controls",
            "children": [
              "IPY_MODEL_29f03ad5838d4b4981d9bd6d69513e55",
              "IPY_MODEL_433b711b5c2f44be9b8cc6d1bdcaf430"
            ]
          }
        },
        "0521b78aceed49528a3b934282d856f5": {
          "model_module": "@jupyter-widgets/base",
          "model_name": "LayoutModel",
          "state": {
            "_view_name": "LayoutView",
            "grid_template_rows": null,
            "right": null,
            "justify_content": null,
            "_view_module": "@jupyter-widgets/base",
            "overflow": null,
            "_model_module_version": "1.2.0",
            "_view_count": null,
            "flex_flow": null,
            "width": null,
            "min_width": null,
            "border": null,
            "align_items": null,
            "bottom": null,
            "_model_module": "@jupyter-widgets/base",
            "top": null,
            "grid_column": null,
            "overflow_y": null,
            "overflow_x": null,
            "grid_auto_flow": null,
            "grid_area": null,
            "grid_template_columns": null,
            "flex": null,
            "_model_name": "LayoutModel",
            "justify_items": null,
            "grid_row": null,
            "max_height": null,
            "align_content": null,
            "visibility": null,
            "align_self": null,
            "height": null,
            "min_height": null,
            "padding": null,
            "grid_auto_rows": null,
            "grid_gap": null,
            "max_width": null,
            "order": null,
            "_view_module_version": "1.2.0",
            "grid_template_areas": null,
            "object_position": null,
            "object_fit": null,
            "grid_auto_columns": null,
            "margin": null,
            "display": null,
            "left": null
          }
        },
        "29f03ad5838d4b4981d9bd6d69513e55": {
          "model_module": "@jupyter-widgets/controls",
          "model_name": "FloatProgressModel",
          "state": {
            "_view_name": "ProgressView",
            "style": "IPY_MODEL_b1bd0d6372b4482cb7087773cfdfed65",
            "_dom_classes": [],
            "description": "100%",
            "_model_name": "FloatProgressModel",
            "bar_style": "success",
            "max": 3460725,
            "_view_module": "@jupyter-widgets/controls",
            "_model_module_version": "1.5.0",
            "value": 3460725,
            "_view_count": null,
            "_view_module_version": "1.5.0",
            "orientation": "horizontal",
            "min": 0,
            "description_tooltip": null,
            "_model_module": "@jupyter-widgets/controls",
            "layout": "IPY_MODEL_9680b8a4b71347879e4213d060823ce5"
          }
        },
        "433b711b5c2f44be9b8cc6d1bdcaf430": {
          "model_module": "@jupyter-widgets/controls",
          "model_name": "HTMLModel",
          "state": {
            "_view_name": "HTMLView",
            "style": "IPY_MODEL_9beb45f1cd824d6e802bb6281c8c872d",
            "_dom_classes": [],
            "description": "",
            "_model_name": "HTMLModel",
            "placeholder": "​",
            "_view_module": "@jupyter-widgets/controls",
            "_model_module_version": "1.5.0",
            "value": " 3460725/3460725 [00:32&lt;00:00, 107767.21it/s]",
            "_view_count": null,
            "_view_module_version": "1.5.0",
            "description_tooltip": null,
            "_model_module": "@jupyter-widgets/controls",
            "layout": "IPY_MODEL_4ae68adacba34c59abb0afc03945f9a0"
          }
        },
        "b1bd0d6372b4482cb7087773cfdfed65": {
          "model_module": "@jupyter-widgets/controls",
          "model_name": "ProgressStyleModel",
          "state": {
            "_view_name": "StyleView",
            "_model_name": "ProgressStyleModel",
            "description_width": "initial",
            "_view_module": "@jupyter-widgets/base",
            "_model_module_version": "1.5.0",
            "_view_count": null,
            "_view_module_version": "1.2.0",
            "bar_color": null,
            "_model_module": "@jupyter-widgets/controls"
          }
        },
        "9680b8a4b71347879e4213d060823ce5": {
          "model_module": "@jupyter-widgets/base",
          "model_name": "LayoutModel",
          "state": {
            "_view_name": "LayoutView",
            "grid_template_rows": null,
            "right": null,
            "justify_content": null,
            "_view_module": "@jupyter-widgets/base",
            "overflow": null,
            "_model_module_version": "1.2.0",
            "_view_count": null,
            "flex_flow": null,
            "width": null,
            "min_width": null,
            "border": null,
            "align_items": null,
            "bottom": null,
            "_model_module": "@jupyter-widgets/base",
            "top": null,
            "grid_column": null,
            "overflow_y": null,
            "overflow_x": null,
            "grid_auto_flow": null,
            "grid_area": null,
            "grid_template_columns": null,
            "flex": null,
            "_model_name": "LayoutModel",
            "justify_items": null,
            "grid_row": null,
            "max_height": null,
            "align_content": null,
            "visibility": null,
            "align_self": null,
            "height": null,
            "min_height": null,
            "padding": null,
            "grid_auto_rows": null,
            "grid_gap": null,
            "max_width": null,
            "order": null,
            "_view_module_version": "1.2.0",
            "grid_template_areas": null,
            "object_position": null,
            "object_fit": null,
            "grid_auto_columns": null,
            "margin": null,
            "display": null,
            "left": null
          }
        },
        "9beb45f1cd824d6e802bb6281c8c872d": {
          "model_module": "@jupyter-widgets/controls",
          "model_name": "DescriptionStyleModel",
          "state": {
            "_view_name": "StyleView",
            "_model_name": "DescriptionStyleModel",
            "description_width": "",
            "_view_module": "@jupyter-widgets/base",
            "_model_module_version": "1.5.0",
            "_view_count": null,
            "_view_module_version": "1.2.0",
            "_model_module": "@jupyter-widgets/controls"
          }
        },
        "4ae68adacba34c59abb0afc03945f9a0": {
          "model_module": "@jupyter-widgets/base",
          "model_name": "LayoutModel",
          "state": {
            "_view_name": "LayoutView",
            "grid_template_rows": null,
            "right": null,
            "justify_content": null,
            "_view_module": "@jupyter-widgets/base",
            "overflow": null,
            "_model_module_version": "1.2.0",
            "_view_count": null,
            "flex_flow": null,
            "width": null,
            "min_width": null,
            "border": null,
            "align_items": null,
            "bottom": null,
            "_model_module": "@jupyter-widgets/base",
            "top": null,
            "grid_column": null,
            "overflow_y": null,
            "overflow_x": null,
            "grid_auto_flow": null,
            "grid_area": null,
            "grid_template_columns": null,
            "flex": null,
            "_model_name": "LayoutModel",
            "justify_items": null,
            "grid_row": null,
            "max_height": null,
            "align_content": null,
            "visibility": null,
            "align_self": null,
            "height": null,
            "min_height": null,
            "padding": null,
            "grid_auto_rows": null,
            "grid_gap": null,
            "max_width": null,
            "order": null,
            "_view_module_version": "1.2.0",
            "grid_template_areas": null,
            "object_position": null,
            "object_fit": null,
            "grid_auto_columns": null,
            "margin": null,
            "display": null,
            "left": null
          }
        }
      }
    }
  },
  "cells": [
    {
      "cell_type": "code",
      "metadata": {
        "colab": {
          "base_uri": "https://localhost:8080/"
        },
        "id": "D-xmqEpPrhVB",
        "outputId": "fca16869-e076-4232-fca7-4009e58c2bf0"
      },
      "source": [
        "from google.colab import drive\n",
        "drive.mount('/content/drive')"
      ],
      "execution_count": null,
      "outputs": [
        {
          "output_type": "stream",
          "text": [
            "Mounted at /content/drive\n"
          ],
          "name": "stdout"
        }
      ]
    },
    {
      "cell_type": "markdown",
      "metadata": {
        "id": "y-oIFq9H4F07"
      },
      "source": [
        "# **DATA INITIZLIZATION**"
      ]
    },
    {
      "cell_type": "code",
      "metadata": {
        "id": "xc5Uaunz4F1E",
        "colab": {
          "base_uri": "https://localhost:8080/"
        },
        "outputId": "da20a0b2-c1de-4ea9-8dfc-f81842089d60"
      },
      "source": [
        "# from google.colab import drive\n",
        "# drive.mount('/content/drive')\n",
        "%matplotlib inline\n",
        "import warnings\n",
        "warnings.filterwarnings(\"ignore\")\n",
        "import gc\n",
        "\n",
        "import pandas as pd\n",
        "import numpy as np\n",
        "import string\n",
        "import matplotlib.pyplot as plt\n",
        "from wordcloud import WordCloud\n",
        "import seaborn as sns\n",
        "import math\n",
        "import lightgbm as lgb\n",
        "from tqdm.notebook import tqdm\n",
        "tqdm.pandas()\n",
        "\n",
        "#!pip install Wordbatch\n",
        "#from wordbatch.models import FTRL, FM_FTRL  # https://github.com/anttttti/Wordbatch\n",
        "import xgboost\n",
        "from sklearn.feature_extraction.text import CountVectorizer\n",
        "from sklearn.feature_extraction.text import TfidfVectorizer\n",
        "import nltk\n",
        "from nltk.stem import WordNetLemmatizer\n",
        "from nltk import word_tokenize\n",
        "from nltk.corpus import wordnet\n",
        "from nltk.stem import PorterStemmer \n",
        "from nltk.tokenize import word_tokenize\n",
        "nltk.download('wordnet')\n",
        "nltk.download('punkt')\n",
        "nltk.download('averaged_perceptron_tagger')\n",
        "from sklearn.model_selection import train_test_split\n",
        "import scipy\n",
        "from scipy.sparse import hstack\n",
        "\n",
        "from sklearn.metrics import mean_squared_log_error\n",
        "import pickle\n",
        "import regex as re\n",
        "import os\n",
        "os.environ['KAGGLE_CONFIG_DIR'] = '/content/drive/My Drive/Colab Notebooks/'"
      ],
      "execution_count": null,
      "outputs": [
        {
          "output_type": "stream",
          "text": [
            "[nltk_data] Downloading package wordnet to /root/nltk_data...\n",
            "[nltk_data]   Unzipping corpora/wordnet.zip.\n",
            "[nltk_data] Downloading package punkt to /root/nltk_data...\n",
            "[nltk_data]   Unzipping tokenizers/punkt.zip.\n",
            "[nltk_data] Downloading package averaged_perceptron_tagger to\n",
            "[nltk_data]     /root/nltk_data...\n",
            "[nltk_data]   Unzipping taggers/averaged_perceptron_tagger.zip.\n"
          ],
          "name": "stdout"
        }
      ]
    },
    {
      "cell_type": "code",
      "metadata": {
        "id": "b3qFUON04F1K",
        "colab": {
          "base_uri": "https://localhost:8080/"
        },
        "outputId": "dd591215-9425-4b1a-8134-60a5803976c5"
      },
      "source": [
        "if 'train.tsv' not in os.listdir(): \n",
        "    !kaggle competitions download -c mercari-price-suggestion-challenge\n",
        "    get_ipython().system_raw(\"7z x \\*.7z && rm *.7z\")\n",
        "    get_ipython().system_raw(\"7z x \\*.zip && rm *.zip\")"
      ],
      "execution_count": null,
      "outputs": [
        {
          "output_type": "stream",
          "text": [
            "Warning: Looks like you're using an outdated API Version, please consider updating (server 1.5.10 / client 1.5.4)\n",
            "Downloading sample_submission.csv.7z to /content\n",
            "  0% 0.00/170k [00:00<?, ?B/s]\n",
            "100% 170k/170k [00:00<00:00, 63.9MB/s]\n",
            "Downloading test_stg2.tsv.zip to /content\n",
            " 96% 283M/294M [00:01<00:00, 155MB/s]\n",
            "100% 294M/294M [00:01<00:00, 157MB/s]\n",
            "Downloading test.tsv.7z to /content\n",
            " 74% 25.0M/34.0M [00:00<00:00, 24.1MB/s]\n",
            "100% 34.0M/34.0M [00:00<00:00, 46.5MB/s]\n",
            "Downloading sample_submission_stg2.csv.zip to /content\n",
            "100% 7.77M/7.77M [00:00<00:00, 80.1MB/s]\n",
            "\n",
            "Downloading train.tsv.7z to /content\n",
            " 82% 61.0M/74.3M [00:00<00:00, 71.3MB/s]\n",
            "100% 74.3M/74.3M [00:00<00:00, 117MB/s] \n"
          ],
          "name": "stdout"
        }
      ]
    },
    {
      "cell_type": "code",
      "metadata": {
        "id": "FzkKGiU64F1N",
        "colab": {
          "base_uri": "https://localhost:8080/",
          "height": 204
        },
        "outputId": "8c67b5b8-8c02-40c8-92d2-69e7f54a01ca"
      },
      "source": [
        "import pandas as pd\n",
        "\n",
        "train_df = pd.read_csv('train.tsv', sep='\\t')\n",
        "\n",
        "# Price range should be $5-$2000, https://www.mercari.com/us/help_center/article/69\n",
        "train_df = train_df[train_df['price']>=5]  # Removing the prodicts with prices less than 5\n",
        "train_df = train_df[train_df['price']<=2000]  # Removing the prodicts with prices more than 2000\n",
        "train_df.head()"
      ],
      "execution_count": null,
      "outputs": [
        {
          "output_type": "execute_result",
          "data": {
            "text/html": [
              "<div>\n",
              "<style scoped>\n",
              "    .dataframe tbody tr th:only-of-type {\n",
              "        vertical-align: middle;\n",
              "    }\n",
              "\n",
              "    .dataframe tbody tr th {\n",
              "        vertical-align: top;\n",
              "    }\n",
              "\n",
              "    .dataframe thead th {\n",
              "        text-align: right;\n",
              "    }\n",
              "</style>\n",
              "<table border=\"1\" class=\"dataframe\">\n",
              "  <thead>\n",
              "    <tr style=\"text-align: right;\">\n",
              "      <th></th>\n",
              "      <th>train_id</th>\n",
              "      <th>name</th>\n",
              "      <th>item_condition_id</th>\n",
              "      <th>category_name</th>\n",
              "      <th>brand_name</th>\n",
              "      <th>price</th>\n",
              "      <th>shipping</th>\n",
              "      <th>item_description</th>\n",
              "    </tr>\n",
              "  </thead>\n",
              "  <tbody>\n",
              "    <tr>\n",
              "      <th>0</th>\n",
              "      <td>0</td>\n",
              "      <td>MLB Cincinnati Reds T Shirt Size XL</td>\n",
              "      <td>3</td>\n",
              "      <td>Men/Tops/T-shirts</td>\n",
              "      <td>NaN</td>\n",
              "      <td>10.0</td>\n",
              "      <td>1</td>\n",
              "      <td>No description yet</td>\n",
              "    </tr>\n",
              "    <tr>\n",
              "      <th>1</th>\n",
              "      <td>1</td>\n",
              "      <td>Razer BlackWidow Chroma Keyboard</td>\n",
              "      <td>3</td>\n",
              "      <td>Electronics/Computers &amp; Tablets/Components &amp; P...</td>\n",
              "      <td>Razer</td>\n",
              "      <td>52.0</td>\n",
              "      <td>0</td>\n",
              "      <td>This keyboard is in great condition and works ...</td>\n",
              "    </tr>\n",
              "    <tr>\n",
              "      <th>2</th>\n",
              "      <td>2</td>\n",
              "      <td>AVA-VIV Blouse</td>\n",
              "      <td>1</td>\n",
              "      <td>Women/Tops &amp; Blouses/Blouse</td>\n",
              "      <td>Target</td>\n",
              "      <td>10.0</td>\n",
              "      <td>1</td>\n",
              "      <td>Adorable top with a hint of lace and a key hol...</td>\n",
              "    </tr>\n",
              "    <tr>\n",
              "      <th>3</th>\n",
              "      <td>3</td>\n",
              "      <td>Leather Horse Statues</td>\n",
              "      <td>1</td>\n",
              "      <td>Home/Home Décor/Home Décor Accents</td>\n",
              "      <td>NaN</td>\n",
              "      <td>35.0</td>\n",
              "      <td>1</td>\n",
              "      <td>New with tags. Leather horses. Retail for [rm]...</td>\n",
              "    </tr>\n",
              "    <tr>\n",
              "      <th>4</th>\n",
              "      <td>4</td>\n",
              "      <td>24K GOLD plated rose</td>\n",
              "      <td>1</td>\n",
              "      <td>Women/Jewelry/Necklaces</td>\n",
              "      <td>NaN</td>\n",
              "      <td>44.0</td>\n",
              "      <td>0</td>\n",
              "      <td>Complete with certificate of authenticity</td>\n",
              "    </tr>\n",
              "  </tbody>\n",
              "</table>\n",
              "</div>"
            ],
            "text/plain": [
              "   train_id  ...                                   item_description\n",
              "0         0  ...                                 No description yet\n",
              "1         1  ...  This keyboard is in great condition and works ...\n",
              "2         2  ...  Adorable top with a hint of lace and a key hol...\n",
              "3         3  ...  New with tags. Leather horses. Retail for [rm]...\n",
              "4         4  ...          Complete with certificate of authenticity\n",
              "\n",
              "[5 rows x 8 columns]"
            ]
          },
          "metadata": {
            "tags": []
          },
          "execution_count": 4
        }
      ]
    },
    {
      "cell_type": "markdown",
      "metadata": {
        "id": "3NSl3wNc4F1Q"
      },
      "source": [
        "**Adding log price column**"
      ]
    },
    {
      "cell_type": "code",
      "metadata": {
        "colab": {
          "base_uri": "https://localhost:8080/",
          "height": 327
        },
        "id": "G4MgQ1dD4F1R",
        "outputId": "88a2be47-408e-4aac-f177-485080907588"
      },
      "source": [
        "from scipy import stats\n",
        "\n",
        "train_df['log_price'] = np.log(train_df['price'].values)\n",
        "\n",
        "plt.figure(figsize=(12,10))\n",
        "plt.subplot(211)\n",
        "sns.distplot(train_df['log_price'])"
      ],
      "execution_count": null,
      "outputs": [
        {
          "output_type": "execute_result",
          "data": {
            "text/plain": [
              "<matplotlib.axes._subplots.AxesSubplot at 0x7f5d873e46d8>"
            ]
          },
          "metadata": {
            "tags": []
          },
          "execution_count": 5
        },
        {
          "output_type": "display_data",
          "data": {
            "image/png": "[encoded data removed]",
            "text/plain": [
              "<Figure size 864x720 with 1 Axes>"
            ]
          },
          "metadata": {
            "tags": [],
            "needs_background": "light"
          }
        }
      ]
    },
    {
      "cell_type": "markdown",
      "metadata": {
        "id": "sTYomfJM4F1X"
      },
      "source": [
        "**Train Test Split**"
      ]
    },
    {
      "cell_type": "code",
      "metadata": {
        "id": "l2tkr5Oz4F1Y"
      },
      "source": [
        "X = train_df.drop(['train_id','log_price','price'], axis=1)\n",
        "y = train_df['log_price']\n",
        "\n",
        "X_train, X_test, y_train, y_test = train_test_split(X, y, test_size=0.20, random_state=42)\n",
        "del X, y, train_df"
      ],
      "execution_count": null,
      "outputs": []
    },
    {
      "cell_type": "code",
      "metadata": {
        "colab": {
          "base_uri": "https://localhost:8080/"
        },
        "id": "mMJLnhGP4F1a",
        "outputId": "d85fb5a5-dc1c-42cf-db5c-af4adc3203df"
      },
      "source": [
        "print(X_train.shape)\n",
        "print(y_train.shape)\n",
        "print(X_test.shape)\n",
        "print(y_test.shape)"
      ],
      "execution_count": null,
      "outputs": [
        {
          "output_type": "stream",
          "text": [
            "(1157452, 6)\n",
            "(1157452,)\n",
            "(289364, 6)\n",
            "(289364,)\n"
          ],
          "name": "stdout"
        }
      ]
    },
    {
      "cell_type": "markdown",
      "metadata": {
        "id": "T9jY8lshDZWU"
      },
      "source": [
        "# **ENSEMBLE**"
      ]
    },
    {
      "cell_type": "markdown",
      "metadata": {
        "id": "3XuxJYgA8X84"
      },
      "source": [
        "## **Feature Engineering for MLP**"
      ]
    },
    {
      "cell_type": "markdown",
      "metadata": {
        "id": "QplH18PQMe0b"
      },
      "source": [
        "### **Filling missing values**"
      ]
    },
    {
      "cell_type": "code",
      "metadata": {
        "id": "-2oH3_X_vzVK"
      },
      "source": [
        "def fill_missing_values(df):\n",
        "    \"\"\"\n",
        "    Description:\n",
        "    Filling null values in all columns.\n",
        "\n",
        "    Input: Dataframe with null values\n",
        "    Output: Dataframe with no null values\n",
        "    \"\"\"\n",
        "    df['name'].fillna('unk_name', inplace=True)\n",
        "    df['category_name'].fillna('unk_cat', inplace=True)\n",
        "    df['brand_name'].fillna('unk_brand', inplace=True)\n",
        "    df['item_description'].fillna('unk_descr', inplace=True)\n",
        "    return df"
      ],
      "execution_count": null,
      "outputs": []
    },
    {
      "cell_type": "markdown",
      "metadata": {
        "id": "5opYRiBm8ax4"
      },
      "source": [
        "### **Text Pre-processing**"
      ]
    },
    {
      "cell_type": "code",
      "metadata": {
        "id": "5cvBF5mK4U0p"
      },
      "source": [
        "import re\n",
        "import string\n",
        "\n",
        "def decontract_text(phrase):\n",
        "    \"\"\"\n",
        "    This utility funciton will be used as a part of preprocessing the text.\n",
        "    It will expand the contracted words. For eg: won't -> will not, I'm -> I am.\n",
        "    \"\"\"\n",
        "    phrase = str(phrase)\n",
        "    phrase = re.sub(r\"n\\'t\", \" not\", phrase)\n",
        "    phrase = re.sub(r\"\\'re\", \" are\", phrase)\n",
        "    phrase = re.sub(r\"\\'s\", \" is\", phrase)\n",
        "    phrase = re.sub(r\"\\'d\", \" would\", phrase)\n",
        "    phrase = re.sub(r\"\\'ll\", \" will\", phrase)\n",
        "    phrase = re.sub(r\"\\'t\", \" not\", phrase)\n",
        "    phrase = re.sub(r\"\\'ve\", \" have\", phrase)\n",
        "    phrase = re.sub(r\"\\'m\", \" am\", phrase)\n",
        "    return phrase\n",
        "\n",
        "def stem_sentence(sentence):\n",
        "    ps = PorterStemmer()\n",
        "    words = word_tokenize(sentence)\n",
        "    root = []\n",
        "    for w in words: \n",
        "        root.append(ps.stem(w))\n",
        "    return \" \".join(root)\n",
        "\n",
        "def preprocess_descriptive_text_column(sentance):\n",
        "    \"\"\"\n",
        "    Description:\n",
        "    This function will process the text data.\n",
        "    This function will perform decontracting words, removing stop words, removing special characters and then apply stemming on the words in the sentence.\n",
        "\n",
        "    Input: original sentence\n",
        "    Output: processed sentence\n",
        "    \"\"\"\n",
        "    # https://gist.github.com/sebleier/554280\n",
        "    # we are removing the negative words from the stop words list: 'no', 'nor', 'not', 'shouldn't, won't, etc.\n",
        "    stopwords= ['i', 'me', 'my', 'myself', 'we', 'our', 'ours', 'ourselves', 'you', \"you're\", \"you've\",\\\n",
        "                \"you'll\", \"you'd\", 'your', 'yours', 'yourself', 'yourselves', 'he', 'him', 'his', 'himself', \\\n",
        "                'she', \"she's\", 'her', 'hers', 'herself', 'it', \"it's\", 'its', 'itself', 'they', 'them', 'their',\\\n",
        "                'theirs', 'themselves', 'what', 'which', 'who', 'whom', 'this', 'that', \"that'll\", 'these', 'those', \\\n",
        "                'am', 'is', 'are', 'was', 'were', 'be', 'been', 'being', 'have', 'has', 'had', 'having', 'do', 'does', \\\n",
        "                'did', 'doing', 'a', 'an', 'the', 'and', 'but', 'if', 'or', 'because', 'as', 'until', 'while', 'of', \\\n",
        "                'at', 'by', 'for', 'with', 'about', 'against', 'between', 'into', 'through', 'during', 'before', 'after',\\\n",
        "                'above', 'below', 'to', 'from', 'up', 'down', 'in', 'out', 'on', 'off', 'over', 'under', 'again', 'further',\\\n",
        "                'then', 'once', 'here', 'there', 'when', 'where', 'why', 'how', 'all', 'any', 'both', 'each', 'few', 'more',\\\n",
        "                'most', 'other', 'some', 'such', 'only', 'own', 'same', 'so', 'than', 'too', 'very', \\\n",
        "                's', 't', 'can', 'will', 'just', 'don', \"don't\", 'should', \"should've\", 'now', 'd', 'll', 'm', 'o', 're', \\\n",
        "                've', 'y']\n",
        "\n",
        "    sent = decontract_text(sentance)\n",
        "    sent = sent.replace('\\\\r', ' ')\n",
        "    sent = sent.replace('\\\\n', ' ')\n",
        "    sent = sent.replace('\\\\\"', ' ')\n",
        "    sent = re.sub('[^A-Za-z0-9]+', ' ', sent)\n",
        "    # https://gist.github.com/sebleier/554280\n",
        "    sent = ' '.join(e for e in sent.split() if e.lower() not in stopwords)\n",
        "\n",
        "    root_sent = stem_sentence(sent.lower().strip())\n",
        "    return root_sent"
      ],
      "execution_count": null,
      "outputs": []
    },
    {
      "cell_type": "markdown",
      "metadata": {
        "id": "AvNDgAgr1MtL"
      },
      "source": [
        "### **Fill Missing Brand Names**"
      ]
    },
    {
      "cell_type": "code",
      "metadata": {
        "id": "E_lEMjA0-sV_"
      },
      "source": [
        "import pickle\n",
        "with open('/content/drive/My Drive/Colab Notebooks/Applied AI Assignments/Case Study 1 Mercari Price Suggestion/brands_list.pkl', 'rb') as f:\n",
        "    existing_brands = pickle.load(f)\n",
        "    \n",
        "with open('/content/drive/My Drive/Colab Notebooks/Applied AI Assignments/Case Study 1 Mercari Price Suggestion/brand_names_categories_dict.pkl', 'rb') as f:\n",
        "    brand_names_categories = pickle.load(f)"
      ],
      "execution_count": null,
      "outputs": []
    },
    {
      "cell_type": "code",
      "metadata": {
        "id": "MC6xLHEQ8dqw"
      },
      "source": [
        "def brand_guesser(row):\n",
        "    \"\"\"\n",
        "    Description:\n",
        "    This function is used to guess the missing brand name.\n",
        "    It will check for an existing brand name mentioned in the item name section. \n",
        "    We want our guess to be as close to actual as possible, \\\n",
        "    hence we will also check the category of the brand name that is guessed with the already mentioned category of that product. \n",
        "    If the category matches, then only we will fill that guessed brand name.\n",
        "\n",
        "    Inputs: dataframe row with missing brand names\n",
        "    Output: dataframe row with filled brand names\n",
        "    \"\"\"\n",
        "    # In the above line, we are creating dictionary of brand name->category, wherever the brand name is missing.\n",
        "    # This will be helpful to us during guessing the missing brand names.\n",
        "    brand, name, cn = row\n",
        "    brand = brand.lower()\n",
        "    if brand=='unk_brand':\n",
        "        for brand in existing_brands:\n",
        "            if brand in name.lower() and cn in brand_names_categories[brand]:\n",
        "                return brand\n",
        "            \n",
        "    return brand"
      ],
      "execution_count": null,
      "outputs": []
    },
    {
      "cell_type": "markdown",
      "metadata": {
        "id": "sxhdGdRxLJ6n"
      },
      "source": [
        "### **Split Categories**"
      ]
    },
    {
      "cell_type": "code",
      "metadata": {
        "id": "07gAsxd-2PPv"
      },
      "source": [
        "def split_text(text):\n",
        "    if text=='unk_cat':\n",
        "        return [\"No Label\", \"No Label\", \"No Label\"]\n",
        "    return text.split(\"/\")\n",
        "\n",
        "def split_categories(df):\n",
        "    \"\"\"\n",
        "    Desription:\n",
        "    This function separates the categories into its three parts. \n",
        "    Main category, Sub-category 1 and Sub-category 2\n",
        "    Then it will remove the original category_name field.\n",
        "\n",
        "    Input: Dataframe having category_name field\n",
        "    Output: Dataframe with splitted categories\n",
        "    \"\"\"\n",
        "    df['general_cat'], df['subcat_1'], df['subcat_2'] = zip(*df['category_name'].apply(lambda x: split_text(x)))\n",
        "    df = df.drop('category_name', axis=1)\n",
        "    return df"
      ],
      "execution_count": null,
      "outputs": []
    },
    {
      "cell_type": "markdown",
      "metadata": {
        "id": "NHNNPNxGD4nr"
      },
      "source": [
        "### **Adding Item Description len and Item Name len**"
      ]
    },
    {
      "cell_type": "code",
      "metadata": {
        "id": "F9mGn-fXHUHz"
      },
      "source": [
        "from sklearn.preprocessing import StandardScaler\n",
        "def get_len_feature(col_series, scaler_text_len=None):\n",
        "    \"\"\"\n",
        "    Description:\n",
        "    This funciton will calculate the word count of the text and standardize it.\n",
        "\n",
        "    Input: Series, fitted scaler[optional; used during inference]\n",
        "    Output: standardized text length for each product and object of the fitted scaler\n",
        "    \"\"\"\n",
        "    text_len = col_series.apply(lambda x: len(x.split()))\n",
        "    if scaler_text_len==None:\n",
        "        scaler_text_len = StandardScaler()\n",
        "        scaler_text_len.fit(text_len.values.reshape(-1, 1))\n",
        "    text_len = scaler_text_len.transform(text_len.values.reshape(-1, 1))\n",
        "    return text_len, scaler_text_len"
      ],
      "execution_count": null,
      "outputs": []
    },
    {
      "cell_type": "markdown",
      "metadata": {
        "id": "VIYFv55Fy0jb"
      },
      "source": [
        "### **Add is_expensive**"
      ]
    },
    {
      "cell_type": "code",
      "metadata": {
        "id": "Or-CEZZ6yzdN"
      },
      "source": [
        "def get_is_expensive_feature(df):\n",
        "    \"\"\"\n",
        "    Description:\n",
        "    This funciton will generate a feature which will tell if the brand is expensive or not.\n",
        "\n",
        "    Input: Dataframe\n",
        "    Output: Sparse is_expensive data\n",
        "    \"\"\"\n",
        "    with open('/content/drive/My Drive/Colab Notebooks/Applied AI Assignments/Case Study 1 Mercari Price Suggestion/expensive_brands.pkl', 'rb') as f:\n",
        "        expensive_brands = pickle.load(f)\n",
        "    \n",
        "    is_expensive_binary = df['brand_name'].apply(lambda x: 1 if x in expensive_brands else 0)\n",
        "    is_expensive_binary = scipy.sparse.csr_matrix(is_expensive_binary.values)\n",
        "    is_expensive_binary = is_expensive_binary.reshape(-1,1) # Now the shape will be (1111901, 1)\n",
        "    return is_expensive_binary"
      ],
      "execution_count": null,
      "outputs": []
    },
    {
      "cell_type": "markdown",
      "metadata": {
        "id": "O0LA9a3ZcTzG"
      },
      "source": [
        "### **Make Shipping data sparse**"
      ]
    },
    {
      "cell_type": "code",
      "metadata": {
        "id": "nQZput5_cZHE"
      },
      "source": [
        "def get_shipping_feature(df):\n",
        "    \"\"\"\n",
        "    Description:\n",
        "    This funciton will just get the shipping data in sparse form.\n",
        "\n",
        "    Input: Dataframe\n",
        "    Output: Sparse shipping data\n",
        "    \"\"\"\n",
        "    sparse_shipping = scipy.sparse.csr_matrix(df['shipping'].values)\n",
        "    sparse_shipping = sparse_shipping.reshape(-1,1) # Now the shape will be (1111901, 1)\n",
        "    return sparse_shipping"
      ],
      "execution_count": null,
      "outputs": []
    },
    {
      "cell_type": "markdown",
      "metadata": {
        "id": "xpuksKS-_Th8"
      },
      "source": [
        "### **Vectorizing data**"
      ]
    },
    {
      "cell_type": "code",
      "metadata": {
        "id": "xOzmKqrzwq4_"
      },
      "source": [
        "def vectorize_data(col_data, vectorizer=None):\n",
        "    \"\"\"\n",
        "    Description:\n",
        "    This funciton will vectorize the input column data.\n",
        "\n",
        "    Input: dataframe column\n",
        "    Output: one-hot encoded values and the fitted vectorizer\n",
        "    \"\"\"\n",
        "    if vectorizer==None:\n",
        "        vectorizer = TfidfVectorizer(ngram_range=(1,2), max_features=100000)\n",
        "        vectorizer.fit(col_data)\n",
        "    ohe_data = vectorizer.transform(col_data)\n",
        "    return ohe_data, vectorizer"
      ],
      "execution_count": null,
      "outputs": []
    },
    {
      "cell_type": "markdown",
      "metadata": {
        "id": "PPNhrvqEVjJ9"
      },
      "source": [
        "### **Feature Engineering pipeline**"
      ]
    },
    {
      "cell_type": "code",
      "metadata": {
        "id": "hgQ1y3ZrSATW"
      },
      "source": [
        "def feature_pipeline(X_data, general_cat_vectorizer=None, subcat_1_vectorizer=None, subcat_2_vectorizer=None, brand_name_vectorizer=None, item_name_vectorizer=None, \n",
        "                     item_desc_vectorizer=None, scaler_name_len=None, scaler_desc_len=None):\n",
        "    \"\"\"\n",
        "    Description: This function will do all the feature engineering on the input X_data,\n",
        "                and create a final data, ready for training.\n",
        "\n",
        "    Input: Original input dataframe, \n",
        "                    the fitted vectorizers for all categorical and text columns [optional: used during inference],\n",
        "                    scalers [optional: used during inference]\n",
        "    Output: Featurized data\n",
        "    \"\"\"\n",
        "    print()\n",
        "    print(\"Filling missing values...\")\n",
        "    X_data = fill_missing_values(X_data)\n",
        "\n",
        "    #X_data['item_description'] = preprocess_descriptive_text_column(X_data['item_description'].values)\n",
        "    #X_data['name'] = preprocess_descriptive_text_column(X_data['name'].values)\n",
        "    #X_data['item_description'] = X_data['item_description'].apply(lambda x: str(x).lower()) ### temp step ###\n",
        "    #X_data['name'] = X_data['name'].apply(lambda x: str(x).lower())                         ### temp step ###\n",
        "    print(\"pre-processing text data...\")\n",
        "    X_data['item_description'] = X_data['item_description'].progress_apply(preprocess_descriptive_text_column) ### temp step ###\n",
        "    X_data['name'] = X_data['name'].progress_apply(preprocess_descriptive_text_column)                         ### temp step ###\n",
        "    X_data['brand_name'] = X_data['brand_name'].progress_apply(lambda x: str(x).lower())\n",
        "\n",
        "    print(\"Guessing the missing brands...\")\n",
        "    X_data['brand_name'] = X_data[['brand_name','name', 'category_name']].progress_apply(brand_guesser, axis = 1)\n",
        "\n",
        "    print(\"Splitting categories...\")\n",
        "    X_data = split_categories(X_data)\n",
        "\n",
        "    print('Getting word lengths')\n",
        "    name_len, scaler_name_len =  get_len_feature(X_data['name'], scaler_name_len)\n",
        "    desc_len, scaler_desc_len =  get_len_feature(X_data['item_description'], scaler_desc_len)\n",
        "\n",
        "    print(\"Getting is_expensive brand feature...\")\n",
        "    sparse_is_expensive = get_is_expensive_feature(X_data)\n",
        "\n",
        "    print(\"Getting sparse shipping data...\")\n",
        "    sparse_shipping = get_shipping_feature(X_data)\n",
        "\n",
        "    print(\"OHE vectorizing the text and categorical variables...\")\n",
        "    general_cat_ohe, general_cat_vectorizer = vectorize_data(X_data['general_cat'].values.astype('U'), general_cat_vectorizer)\n",
        "    print(\"general cat done...\")\n",
        "    subcat_1_ohe, subcat_1_vectorizer = vectorize_data(X_data['subcat_1'].values.astype('U'), subcat_1_vectorizer)\n",
        "    print(\"sub cat 1 done...\")\n",
        "    subcat_2_ohe, subcat_2_vectorizer = vectorize_data(X_data['subcat_2'].values.astype('U'), subcat_2_vectorizer)\n",
        "    print(\"sub cat 2 done...\")\n",
        "    brand_name_ohe, brand_name_vectorizer = vectorize_data(X_data['brand_name'].values.astype('U'), brand_name_vectorizer)\n",
        "    print(\"brand name done...\")\n",
        "    item_name_ohe, item_name_vectorizer = vectorize_data(X_data['name'], item_name_vectorizer)\n",
        "    print(\"item name done...\")\n",
        "    item_desc_ohe, item_desc_vectorizer = vectorize_data(X_data['item_description'], item_desc_vectorizer)\n",
        "    print(\"item description done...\")\n",
        "\n",
        "    print(\"Creating the final featurized dataset...\")\n",
        "    X_featurized = hstack((general_cat_ohe, subcat_1_ohe, subcat_2_ohe, brand_name_ohe, item_name_ohe, item_desc_ohe, \n",
        "                            desc_len, name_len, X_data['item_condition_id'].values.reshape(-1,1), sparse_shipping)).tocsr()\n",
        "\n",
        "    print(\"Done!!!\\n---------------------------\\n\")\n",
        "    return X_featurized, general_cat_vectorizer, subcat_1_vectorizer, subcat_2_vectorizer, brand_name_vectorizer, item_name_vectorizer, item_desc_vectorizer, scaler_name_len, scaler_desc_len\n"
      ],
      "execution_count": null,
      "outputs": []
    },
    {
      "cell_type": "code",
      "metadata": {
        "id": "npcSzkCOnqJD",
        "colab": {
          "base_uri": "https://localhost:8080/",
          "height": 536,
          "referenced_widgets": [
            "fd4ead890c174b87a3443c2cb5807a1a",
            "08e74bcc2f054bf49e24fadcc6ef8611",
            "d118516d7279415e8b619d3b84b44de5",
            "83cab92a954d4cef8b69ea697b3d1011",
            "f3a3dd5c0c2344fe89a3faba41eda438",
            "b0b7503ae411442ea1938ceb3afc0336",
            "824a986e8e2a46cf8084caa3764a0fc9",
            "47af4014fc1245daa4bdc925fb55a26b",
            "d6f85da3d2bc4ef9a338f8713096a0a3",
            "d2b41826d95d49c896ed8b00fa4a098f",
            "b60cf478082941a5bdde9d3a8f4b84e8",
            "c8636a1df6d449afbb81a0f5c56b29fa",
            "e005de8ad8804d10a20c71c59e876cd2",
            "720862fb2bbb403ab39cbdc4be31286d",
            "c78b0a500d07472fbd8d608791922ef4",
            "d211398b359940efa31ad638add17813",
            "dfb4993bcf1740e9ba75b0c46a715937",
            "f00dacebe0f249c0b15eac2d5702af17",
            "46c7a8572805486d9bb583166669ec46",
            "ce81f247449c4ebc84c7317724e18458",
            "0adb20092fde43e498054380b8150ae0",
            "7ff7f2ea576e4c98bdf4869ebc87805a",
            "41d214bb7efc4e6293196f3e272e2247",
            "74602008d02b4aabbe87655b29609f9b",
            "39e46ffacb97416a85d132b058668e3d",
            "7880502738994885a26d07bccd776b1f",
            "2016fb3f376e484996c5b755b8eb74e4",
            "4d5b6d43f2644ae5ad6bb336706d5fce",
            "79e1ce9906ee457f82974fe8bf28e504",
            "0be9c67ddd7648f49e110013ebf3a2c5",
            "3563eb0f232c494eb968810bfdf3fd38",
            "841dbdb27e0043e7adfcf4cb8e0bed25"
          ]
        },
        "outputId": "d1a8dd1b-9eb1-4145-85af-4b49bc7a1a8f"
      },
      "source": [
        "X_tr, general_cat_vectorizer, subcat_1_vectorizer, subcat_2_vectorizer, brand_name_vectorizer, item_name_vectorizer, item_desc_vectorizer, scaler_name_len, scaler_desc_len = feature_pipeline(X_train)\n",
        "#X_te, _, _, _, _, _, _, _, _ = feature_pipeline(X_test, general_cat_vectorizer, subcat_1_vectorizer, subcat_2_vectorizer, brand_name_vectorizer, item_name_vectorizer, item_desc_vectorizer, scaler_name_len, scaler_desc_len)"
      ],
      "execution_count": null,
      "outputs": [
        {
          "output_type": "stream",
          "text": [
            "\n",
            "Filling missing values...\n",
            "pre-processing text data...\n"
          ],
          "name": "stdout"
        },
        {
          "output_type": "display_data",
          "data": {
            "application/vnd.jupyter.widget-view+json": {
              "model_id": "fd4ead890c174b87a3443c2cb5807a1a",
              "version_minor": 0,
              "version_major": 2
            },
            "text/plain": [
              "HBox(children=(FloatProgress(value=0.0, max=1157452.0), HTML(value='')))"
            ]
          },
          "metadata": {
            "tags": []
          }
        },
        {
          "output_type": "stream",
          "text": [
            "\n"
          ],
          "name": "stdout"
        },
        {
          "output_type": "display_data",
          "data": {
            "application/vnd.jupyter.widget-view+json": {
              "model_id": "d6f85da3d2bc4ef9a338f8713096a0a3",
              "version_minor": 0,
              "version_major": 2
            },
            "text/plain": [
              "HBox(children=(FloatProgress(value=0.0, max=1157452.0), HTML(value='')))"
            ]
          },
          "metadata": {
            "tags": []
          }
        },
        {
          "output_type": "stream",
          "text": [
            "\n"
          ],
          "name": "stdout"
        },
        {
          "output_type": "display_data",
          "data": {
            "application/vnd.jupyter.widget-view+json": {
              "model_id": "dfb4993bcf1740e9ba75b0c46a715937",
              "version_minor": 0,
              "version_major": 2
            },
            "text/plain": [
              "HBox(children=(FloatProgress(value=0.0, max=1157452.0), HTML(value='')))"
            ]
          },
          "metadata": {
            "tags": []
          }
        },
        {
          "output_type": "stream",
          "text": [
            "\n",
            "Guessing the missing brands...\n"
          ],
          "name": "stdout"
        },
        {
          "output_type": "display_data",
          "data": {
            "application/vnd.jupyter.widget-view+json": {
              "model_id": "39e46ffacb97416a85d132b058668e3d",
              "version_minor": 0,
              "version_major": 2
            },
            "text/plain": [
              "HBox(children=(FloatProgress(value=0.0, max=1157452.0), HTML(value='')))"
            ]
          },
          "metadata": {
            "tags": []
          }
        },
        {
          "output_type": "stream",
          "text": [
            "\n",
            "Splitting categories...\n",
            "Getting word lengths\n",
            "Getting is_expensive brand feature...\n",
            "Getting sparse shipping data...\n",
            "OHE vectorizing the text and categorical variables...\n",
            "general cat done...\n",
            "sub cat 1 done...\n",
            "sub cat 2 done...\n",
            "brand name done...\n",
            "item name done...\n",
            "item description done...\n",
            "Creating the final featurized dataset...\n",
            "Done!!!\n",
            "---------------------------\n",
            "\n"
          ],
          "name": "stdout"
        }
      ]
    },
    {
      "cell_type": "markdown",
      "metadata": {
        "id": "5JoRl40Lq1Ih"
      },
      "source": [
        "## **Get Input for Simple MLP**"
      ]
    },
    {
      "cell_type": "code",
      "metadata": {
        "id": "Uls3d5qvDaqk"
      },
      "source": [
        "test = pd.read_csv('test_stg2.tsv', sep='\\t')"
      ],
      "execution_count": null,
      "outputs": []
    },
    {
      "cell_type": "code",
      "metadata": {
        "colab": {
          "base_uri": "https://localhost:8080/",
          "height": 536,
          "referenced_widgets": [
            "b031992e04154400bbb875252afd588d",
            "46b942a7bbdb4ede89b1dedbaf230222",
            "227fe8c62c774cd99b705e9ddfbdbfc8",
            "1c072d92a4824c0da499a57e8943c871",
            "e40eca97166f4dfcae2982a24dc0445d",
            "204199c647b7406f92e64f0c5565f112",
            "30b3c5af985e4f75b71785a4ac09518b",
            "b60cd0e7ebf040928fcd6135695beebf",
            "b672b046a1504076a8df4f4cba30d5c3",
            "7e5c24555c7b4d70b200cb3db723dce3",
            "a7c2ca02df874e7287d4c7754db2d182",
            "1363db88549e4db18a6900ac58850763",
            "2b7dc60cf8124eb482118c83708d6ac2",
            "978a9c3a33a84105baa7ca0159a1fd98",
            "043949ea9fd445d695ce28862cbe3cbf",
            "7918404d999d45b79f93d1c98f5aeec9",
            "d274333bab2140a7b5b112316d9b485e",
            "2473cf02b6ec42ddb41503549c760bcd",
            "779f2cd9f59f4c55adb12835db2ec6e9",
            "66895aeab0eb454083e6e90d645f116a",
            "32f837dfffd646e0b8285018cf4321f1",
            "c9d6c529458e404a95b268364f90b844",
            "47b8bd7721e34d84a63486fba0a82f55",
            "6f5ebd2d6da447e88b24c7fed567cb0f",
            "c5e2b0edbb694650950e3808564b3ed8",
            "c6110807a3d34f18bfec5ed761c739bf",
            "33deebd5bf9247f09488c89647714cd3",
            "d6083f082c7e46b2a3a6b8a72417d75a",
            "31d4f36619c5479b90e3abbbfdfe499b",
            "1cb1a66099c64bdca9fefe471e8bfe71",
            "b9eea635a78640b6a0f0b9da502a85b7",
            "1678334ae14d44ee829aacb1ceadb1f0"
          ]
        },
        "id": "HIWI0xiGDi-T",
        "outputId": "ba48d6eb-f599-46a5-ce33-537ad153ebac"
      },
      "source": [
        "X_te_mlp, _, _, _, _, _, _, _, _ = feature_pipeline(test, general_cat_vectorizer, subcat_1_vectorizer, subcat_2_vectorizer, brand_name_vectorizer, item_name_vectorizer, item_desc_vectorizer, scaler_name_len, scaler_desc_len)"
      ],
      "execution_count": null,
      "outputs": [
        {
          "output_type": "stream",
          "text": [
            "\n",
            "Filling missing values...\n",
            "pre-processing text data...\n"
          ],
          "name": "stdout"
        },
        {
          "output_type": "display_data",
          "data": {
            "application/vnd.jupyter.widget-view+json": {
              "model_id": "b031992e04154400bbb875252afd588d",
              "version_minor": 0,
              "version_major": 2
            },
            "text/plain": [
              "HBox(children=(FloatProgress(value=0.0, max=3460725.0), HTML(value='')))"
            ]
          },
          "metadata": {
            "tags": []
          }
        },
        {
          "output_type": "stream",
          "text": [
            "\n"
          ],
          "name": "stdout"
        },
        {
          "output_type": "display_data",
          "data": {
            "application/vnd.jupyter.widget-view+json": {
              "model_id": "b672b046a1504076a8df4f4cba30d5c3",
              "version_minor": 0,
              "version_major": 2
            },
            "text/plain": [
              "HBox(children=(FloatProgress(value=0.0, max=3460725.0), HTML(value='')))"
            ]
          },
          "metadata": {
            "tags": []
          }
        },
        {
          "output_type": "stream",
          "text": [
            "\n"
          ],
          "name": "stdout"
        },
        {
          "output_type": "display_data",
          "data": {
            "application/vnd.jupyter.widget-view+json": {
              "model_id": "d274333bab2140a7b5b112316d9b485e",
              "version_minor": 0,
              "version_major": 2
            },
            "text/plain": [
              "HBox(children=(FloatProgress(value=0.0, max=3460725.0), HTML(value='')))"
            ]
          },
          "metadata": {
            "tags": []
          }
        },
        {
          "output_type": "stream",
          "text": [
            "\n",
            "Guessing the missing brands...\n"
          ],
          "name": "stdout"
        },
        {
          "output_type": "display_data",
          "data": {
            "application/vnd.jupyter.widget-view+json": {
              "model_id": "c5e2b0edbb694650950e3808564b3ed8",
              "version_minor": 0,
              "version_major": 2
            },
            "text/plain": [
              "HBox(children=(FloatProgress(value=0.0, max=3460725.0), HTML(value='')))"
            ]
          },
          "metadata": {
            "tags": []
          }
        },
        {
          "output_type": "stream",
          "text": [
            "\n",
            "Splitting categories...\n",
            "Getting word lengths\n",
            "Getting is_expensive brand feature...\n",
            "Getting sparse shipping data...\n",
            "OHE vectorizing the text and categorical variables...\n",
            "general cat done...\n",
            "sub cat 1 done...\n",
            "sub cat 2 done...\n",
            "brand name done...\n",
            "item name done...\n",
            "item description done...\n",
            "Creating the final featurized dataset...\n",
            "Done!!!\n",
            "---------------------------\n",
            "\n"
          ],
          "name": "stdout"
        }
      ]
    },
    {
      "cell_type": "markdown",
      "metadata": {
        "id": "_85mkexjrUbR"
      },
      "source": [
        "## **Feature Engineering for CNNs**"
      ]
    },
    {
      "cell_type": "markdown",
      "metadata": {
        "id": "NxHf_f4FrUbR"
      },
      "source": [
        "### **Filling missing values**"
      ]
    },
    {
      "cell_type": "code",
      "metadata": {
        "id": "zEIo7o3UrUbR"
      },
      "source": [
        "def fill_missing_values(df):\n",
        "    \"\"\"\n",
        "    Description:\n",
        "    Filling null values in all columns.\n",
        "\n",
        "    Input: Dataframe with null values\n",
        "    Output: Dataframe with no null values\n",
        "    \"\"\"\n",
        "    df['name'].fillna('unk_name', inplace=True)\n",
        "    df['category_name'].fillna('unk_cat', inplace=True)\n",
        "    df['brand_name'].fillna('unk_brand', inplace=True)\n",
        "    df['item_description'].fillna('unk_descr', inplace=True)\n",
        "    return df"
      ],
      "execution_count": null,
      "outputs": []
    },
    {
      "cell_type": "markdown",
      "metadata": {
        "id": "z7OvsqZRrUbR"
      },
      "source": [
        "### **Text Pre-processing**"
      ]
    },
    {
      "cell_type": "code",
      "metadata": {
        "id": "FU82s7-wrUbR"
      },
      "source": [
        "import re\n",
        "import string\n",
        "\n",
        "def decontract_text(phrase):\n",
        "    \"\"\"\n",
        "    This utility funciton will be used as a part of preprocessing the text.\n",
        "    It will expand the contracted words. For eg: won't -> will not, I'm -> I am.\n",
        "    \"\"\"\n",
        "    phrase = str(phrase)\n",
        "    phrase = re.sub(r\"n\\'t\", \" not\", phrase)\n",
        "    phrase = re.sub(r\"\\'re\", \" are\", phrase)\n",
        "    phrase = re.sub(r\"\\'s\", \" is\", phrase)\n",
        "    phrase = re.sub(r\"\\'d\", \" would\", phrase)\n",
        "    phrase = re.sub(r\"\\'ll\", \" will\", phrase)\n",
        "    phrase = re.sub(r\"\\'t\", \" not\", phrase)\n",
        "    phrase = re.sub(r\"\\'ve\", \" have\", phrase)\n",
        "    phrase = re.sub(r\"\\'m\", \" am\", phrase)\n",
        "    return phrase\n",
        "\n",
        "def preprocess_descriptive_text_column(sentance):\n",
        "    \"\"\"\n",
        "    Description:\n",
        "    This function will process the text data.\n",
        "    This function will perform decontracting words, removing stop words, removing special characters and then apply stemming on the words in the sentence.\n",
        "\n",
        "    Input: original sentence\n",
        "    Output: processed sentence\n",
        "    \"\"\"\n",
        "    # https://gist.github.com/sebleier/554280\n",
        "    # we are removing the negative words from the stop words list: 'no', 'nor', 'not', 'shouldn't, won't, etc.\n",
        "    stopwords= ['i', 'me', 'my', 'myself', 'we', 'our', 'ours', 'ourselves', 'you', \"you're\", \"you've\",\\\n",
        "                \"you'll\", \"you'd\", 'your', 'yours', 'yourself', 'yourselves', 'he', 'him', 'his', 'himself', \\\n",
        "                'she', \"she's\", 'her', 'hers', 'herself', 'it', \"it's\", 'its', 'itself', 'they', 'them', 'their',\\\n",
        "                'theirs', 'themselves', 'what', 'which', 'who', 'whom', 'this', 'that', \"that'll\", 'these', 'those', \\\n",
        "                'am', 'is', 'are', 'was', 'were', 'be', 'been', 'being', 'have', 'has', 'had', 'having', 'do', 'does', \\\n",
        "                'did', 'doing', 'a', 'an', 'the', 'and', 'but', 'if', 'or', 'because', 'as', 'until', 'while', 'of', \\\n",
        "                'at', 'by', 'for', 'with', 'about', 'against', 'between', 'into', 'through', 'during', 'before', 'after',\\\n",
        "                'above', 'below', 'to', 'from', 'up', 'down', 'in', 'out', 'on', 'off', 'over', 'under', 'again', 'further',\\\n",
        "                'then', 'once', 'here', 'there', 'when', 'where', 'why', 'how', 'all', 'any', 'both', 'each', 'few', 'more',\\\n",
        "                'most', 'other', 'some', 'such', 'only', 'own', 'same', 'so', 'than', 'too', 'very', \\\n",
        "                's', 't', 'can', 'will', 'just', 'don', \"don't\", 'should', \"should've\", 'now', 'd', 'll', 'm', 'o', 're', \\\n",
        "                've', 'y']\n",
        "\n",
        "    sent = decontract_text(sentance)\n",
        "    sent = sent.replace('\\\\r', ' ')\n",
        "    sent = sent.replace('\\\\n', ' ')\n",
        "    sent = sent.replace('\\\\\"', ' ')\n",
        "    sent = re.sub('[^A-Za-z0-9]+', ' ', sent)\n",
        "    # https://gist.github.com/sebleier/554280\n",
        "    sent = ' '.join(e for e in sent.split() if e.lower() not in stopwords)\n",
        "    sent = sent.lower()\n",
        "    return sent"
      ],
      "execution_count": null,
      "outputs": []
    },
    {
      "cell_type": "markdown",
      "metadata": {
        "id": "evCzx_VWrUbR"
      },
      "source": [
        "### **Fill Missing Brand Names**"
      ]
    },
    {
      "cell_type": "code",
      "metadata": {
        "id": "ideBsXzw71G5"
      },
      "source": [
        "import pickle\n",
        "with open('/content/drive/My Drive/Colab Notebooks/Applied AI Assignments/Case Study 1 Mercari Price Suggestion/brands_list.pkl', 'rb') as f:\n",
        "    existing_brands = pickle.load(f)\n",
        "    \n",
        "with open('/content/drive/My Drive/Colab Notebooks/Applied AI Assignments/Case Study 1 Mercari Price Suggestion/brand_names_categories_dict.pkl', 'rb') as f:\n",
        "    brand_names_categories = pickle.load(f)"
      ],
      "execution_count": null,
      "outputs": []
    },
    {
      "cell_type": "code",
      "metadata": {
        "id": "5Xvy8Xb91eKH"
      },
      "source": [
        "def brand_guesser(row):\n",
        "    \"\"\"\n",
        "    Description:\n",
        "    This function is used to guess the missing brand name.\n",
        "    It will check for an existing brand name mentioned in the item name section. \n",
        "    We want our guess to be as close to actual as possible, \\\n",
        "    hence we will also check the category of the brand name that is guessed with the already mentioned category of that product. \n",
        "    If the category matches, then only we will fill that guessed brand name.\n",
        "\n",
        "    Inputs: dataframe row with missing brand names\n",
        "    Output: dataframe row with filled brand names\n",
        "    \"\"\"\n",
        "    # In the above line, we are creating dictionary of brand name->category, wherever the brand name is missing.\n",
        "    # This will be helpful to us during guessing the missing brand names.\n",
        "    brand, name, cn = row\n",
        "    brand = brand.lower()\n",
        "    if brand=='unk_brand':\n",
        "        for brand in existing_brands:\n",
        "            if brand in name.lower() and cn in brand_names_categories[brand]:\n",
        "                return brand\n",
        "            \n",
        "    return brand"
      ],
      "execution_count": null,
      "outputs": []
    },
    {
      "cell_type": "markdown",
      "metadata": {
        "id": "P3I6IxyWrUbR"
      },
      "source": [
        "### **Split Categories**"
      ]
    },
    {
      "cell_type": "code",
      "metadata": {
        "id": "ICIXV_ozrUbR"
      },
      "source": [
        "def split_text(text):\n",
        "    if text=='unk_cat':\n",
        "        return [\"No Label\", \"No Label\", \"No Label\"]\n",
        "    return text.split(\"/\")\n",
        "\n",
        "def split_categories(df):\n",
        "    \"\"\"\n",
        "    Desription:\n",
        "    This function separates the categories into its three parts. \n",
        "    Main category, Sub-category 1 and Sub-category 2\n",
        "    Then it will remove the original category_name field.\n",
        "\n",
        "    Input: Dataframe having category_name field\n",
        "    Output: Dataframe with splitted categories\n",
        "    \"\"\"\n",
        "    df['general_cat'], df['subcat_1'], df['subcat_2'] = zip(*df['category_name'].apply(lambda x: split_text(x)))\n",
        "    df = df.drop('category_name', axis=1)\n",
        "    return df"
      ],
      "execution_count": null,
      "outputs": []
    },
    {
      "cell_type": "markdown",
      "metadata": {
        "id": "QnbcmCiirUbR"
      },
      "source": [
        "### **Adding Item Description len and Item Name len**"
      ]
    },
    {
      "cell_type": "code",
      "metadata": {
        "id": "qGLVNjI9rUbR"
      },
      "source": [
        "from sklearn.preprocessing import StandardScaler\n",
        "def get_len_feature(col_series, scaler_text_len=None):\n",
        "    \"\"\"\n",
        "    Description:\n",
        "    This funciton will calculate the word count of the text and standardize it.\n",
        "\n",
        "    Input: Series, fitted scaler[optional; used during inference]\n",
        "    Output: standardized text length for each product and object of the fitted scaler\n",
        "    \"\"\"\n",
        "    text_len = col_series.apply(lambda x: len(x.split()))\n",
        "    if scaler_text_len==None:\n",
        "        scaler_text_len = StandardScaler()\n",
        "        scaler_text_len.fit(text_len.values.reshape(-1, 1))\n",
        "    text_len = scaler_text_len.transform(text_len.values.reshape(-1, 1))\n",
        "    return text_len, scaler_text_len"
      ],
      "execution_count": null,
      "outputs": []
    },
    {
      "cell_type": "markdown",
      "metadata": {
        "id": "yCkonxU1rUbR"
      },
      "source": [
        "### **Add is_expensive**"
      ]
    },
    {
      "cell_type": "code",
      "metadata": {
        "id": "FOAUH4ZVrUbR"
      },
      "source": [
        "def get_is_expensive_feature(df):\n",
        "    \"\"\"\n",
        "    Description:\n",
        "    This funciton will generate a feature which will tell if the brand is expensive or not.\n",
        "\n",
        "    Input: Dataframe\n",
        "    Output: Sparse is_expensive data\n",
        "    \"\"\"\n",
        "    with open('/content/drive/My Drive/Colab Notebooks/Applied AI Assignments/Case Study 1 Mercari Price Suggestion/expensive_brands.pkl', 'rb') as f:\n",
        "        expensive_brands = pickle.load(f)\n",
        "    \n",
        "    df['is_expensive'] = df['brand_name'].apply(lambda x: 1 if x in expensive_brands else 0)\n",
        "    return df"
      ],
      "execution_count": null,
      "outputs": []
    },
    {
      "cell_type": "markdown",
      "metadata": {
        "id": "a_TjH19SddlN"
      },
      "source": [
        "### **Feature Engineering pipeline**"
      ]
    },
    {
      "cell_type": "code",
      "metadata": {
        "id": "DfdFCuR4dccz"
      },
      "source": [
        "def feature_pipeline(X_data, scaler_name_len=None, scaler_desc_len=None):\n",
        "    \"\"\"\n",
        "    Description: This function will do all the feature engineering on the input X_data,\n",
        "                and create a final data, ready for training.\n",
        "\n",
        "    Input: Original input dataframe, \n",
        "                    scalers [optional: used during inference]\n",
        "    Output: Featurized data\n",
        "    \"\"\"\n",
        "    print()\n",
        "    print(\"Filling missing values...\")\n",
        "    X_data = fill_missing_values(X_data)\n",
        "    \n",
        "    print(\"pre-processing text data...\")\n",
        "    X_data['item_description'] = X_data['item_description'].progress_apply(preprocess_descriptive_text_column) ### temp step ###\n",
        "    X_data['name'] = X_data['name'].progress_apply(preprocess_descriptive_text_column)                         ### temp step ###\n",
        "    X_data['brand_name'] = X_data['brand_name'].progress_apply(lambda x: str(x).lower())\n",
        "\n",
        "    print(\"Guessing the missing brands...\")\n",
        "    X_data['brand_name'] = X_data[['brand_name','name', 'category_name']].progress_apply(brand_guesser, axis = 1)\n",
        "\n",
        "    print(\"Splitting categories...\")\n",
        "    X_data = split_categories(X_data)\n",
        "\n",
        "    print('Getting word lengths')\n",
        "    X_data['name_len'], scaler_name_len =  get_len_feature(X_data['name'], scaler_name_len)\n",
        "    X_data['desc_len'], scaler_desc_len =  get_len_feature(X_data['item_description'], scaler_desc_len)\n",
        "\n",
        "    print(\"Getting is_expensive brand feature...\")\n",
        "    X_data = get_is_expensive_feature(X_data)\n",
        "\n",
        "    print(\"Done!!!\\n---------------------------\\n\")\n",
        "    return X_data, scaler_name_len, scaler_desc_len"
      ],
      "execution_count": null,
      "outputs": []
    },
    {
      "cell_type": "code",
      "metadata": {
        "id": "K7ncGoaaq0UA"
      },
      "source": [
        "with open('/content/drive/My Drive/Colab Notebooks/Applied AI Assignments/Case Study 1 Mercari Price Suggestion/zzFINAL COMPLETED/BERT CNN/scalers.pkl', 'rb') as f:\n",
        "    scaler_name_len, scaler_desc_len = pickle.load(f)"
      ],
      "execution_count": null,
      "outputs": []
    },
    {
      "cell_type": "code",
      "metadata": {
        "colab": {
          "base_uri": "https://localhost:8080/",
          "height": 383,
          "referenced_widgets": [
            "293736d3f96847578031bd47a89f0e93",
            "9ef5973572d3417ab7f48462c5fef56c",
            "97c13af2762146d08d3238035276ed9d",
            "3398a192859f4473a79e510541474e7e",
            "4f934e36c5fd411ebccf5c9160d10453",
            "9dcf48cc48864aa1b64920193481d483",
            "5cb70a4286f34656a2ddaefcb1802ea3",
            "fd3727c03f44416a8acf859612cce726",
            "e676ffcfc40449ebb188a2edadbd0137",
            "c83d5d1ac7a4440d982842cdcd00c2af",
            "bd1c197c5d7341a8b11772c4161e6237",
            "97d7b07fe40b4595b6897677bff1a82c",
            "06c117184b614f9b916bf445347aee12",
            "1f5baba55f5b40fc98cd400a620a3782",
            "75b3713f619a4a1b99a767e194ffc722",
            "0f4ab89517404c848e14e235cdca40d1",
            "04fc324c827a40d9b3d300a0e2004f9a",
            "162b96bbcf944e2ca19d8d89dabb7750",
            "f05575a73f4647b0b93d9279b8c84bc3",
            "e1bdcc577fd643af8b88ec94fa5d3eff",
            "b34a5a0f502845b0942d0db79c50716f",
            "0cfdcb2f801c423787403047e00f0a83",
            "0758f804f2cc42a6a52d162f9a6f1709",
            "70bf0b4db9d846458fae6271f4b958b9",
            "9f039f3c1f7d49468a432901e6f06032",
            "0521b78aceed49528a3b934282d856f5",
            "29f03ad5838d4b4981d9bd6d69513e55",
            "433b711b5c2f44be9b8cc6d1bdcaf430",
            "b1bd0d6372b4482cb7087773cfdfed65",
            "9680b8a4b71347879e4213d060823ce5",
            "9beb45f1cd824d6e802bb6281c8c872d",
            "4ae68adacba34c59abb0afc03945f9a0"
          ]
        },
        "id": "StA2wz3KqtPg",
        "outputId": "37d44c73-87fa-4c8c-e5d7-2b5dfafec58d"
      },
      "source": [
        "X_te_ft_cnn, _, _ = feature_pipeline(test, scaler_name_len, scaler_desc_len)"
      ],
      "execution_count": null,
      "outputs": [
        {
          "output_type": "stream",
          "text": [
            "\n",
            "Filling missing values...\n",
            "pre-processing text data...\n"
          ],
          "name": "stdout"
        },
        {
          "output_type": "display_data",
          "data": {
            "application/vnd.jupyter.widget-view+json": {
              "model_id": "293736d3f96847578031bd47a89f0e93",
              "version_minor": 0,
              "version_major": 2
            },
            "text/plain": [
              "HBox(children=(FloatProgress(value=0.0, max=3460725.0), HTML(value='')))"
            ]
          },
          "metadata": {
            "tags": []
          }
        },
        {
          "output_type": "stream",
          "text": [
            "\n"
          ],
          "name": "stdout"
        },
        {
          "output_type": "display_data",
          "data": {
            "application/vnd.jupyter.widget-view+json": {
              "model_id": "e676ffcfc40449ebb188a2edadbd0137",
              "version_minor": 0,
              "version_major": 2
            },
            "text/plain": [
              "HBox(children=(FloatProgress(value=0.0, max=3460725.0), HTML(value='')))"
            ]
          },
          "metadata": {
            "tags": []
          }
        },
        {
          "output_type": "stream",
          "text": [
            "\n"
          ],
          "name": "stdout"
        },
        {
          "output_type": "display_data",
          "data": {
            "application/vnd.jupyter.widget-view+json": {
              "model_id": "04fc324c827a40d9b3d300a0e2004f9a",
              "version_minor": 0,
              "version_major": 2
            },
            "text/plain": [
              "HBox(children=(FloatProgress(value=0.0, max=3460725.0), HTML(value='')))"
            ]
          },
          "metadata": {
            "tags": []
          }
        },
        {
          "output_type": "stream",
          "text": [
            "\n",
            "Guessing the missing brands...\n"
          ],
          "name": "stdout"
        },
        {
          "output_type": "display_data",
          "data": {
            "application/vnd.jupyter.widget-view+json": {
              "model_id": "9f039f3c1f7d49468a432901e6f06032",
              "version_minor": 0,
              "version_major": 2
            },
            "text/plain": [
              "HBox(children=(FloatProgress(value=0.0, max=3460725.0), HTML(value='')))"
            ]
          },
          "metadata": {
            "tags": []
          }
        },
        {
          "output_type": "stream",
          "text": [
            "\n",
            "Splitting categories...\n",
            "Getting word lengths\n",
            "Getting is_expensive brand feature...\n",
            "Done!!!\n",
            "---------------------------\n",
            "\n"
          ],
          "name": "stdout"
        }
      ]
    },
    {
      "cell_type": "markdown",
      "metadata": {
        "id": "zSHET6QbC3_9"
      },
      "source": [
        "## **Get Input for CNNs**"
      ]
    },
    {
      "cell_type": "code",
      "metadata": {
        "id": "_lmOHS61PXNg"
      },
      "source": [
        "# THIS CODE IS USED TO OVERCOME THE UNKNOWN CATEGORICAL VALUES ENCOUNTERED IN THE TEST DATA, WHEN USING Sklearn's LabelEncoder\n",
        "# We basically add a 'Unknown' category when fitting, to accomodate all the unseen/unknown values in test data\n",
        "# https://stackoverflow.com/a/56876351/7697658\n",
        "\n",
        "from sklearn.preprocessing import LabelEncoder\n",
        "import numpy as np\n",
        "\n",
        "class LabelEncoderExt(object):\n",
        "    def __init__(self):\n",
        "        \"\"\"\n",
        "        It differs from LabelEncoder by handling new classes and providing a value for it [Unknown]\n",
        "        Unknown will be added in fit and transform will take care of new item. It gives unknown class id\n",
        "        \"\"\"\n",
        "        self.label_encoder = LabelEncoder()\n",
        "        # self.classes_ = self.label_encoder.classes_\n",
        "\n",
        "    def fit(self, data_list):\n",
        "        \"\"\"\n",
        "        This will fit the encoder for all the unique values and introduce unknown value\n",
        "        :param data_list: A list of string\n",
        "        :return: self\n",
        "        \"\"\"\n",
        "        self.label_encoder = self.label_encoder.fit(list(data_list) + ['Unknown'])\n",
        "        self.classes_ = self.label_encoder.classes_\n",
        "\n",
        "        return self\n",
        "\n",
        "    def transform(self, data_list):\n",
        "        \"\"\"\n",
        "        This will transform the data_list to id list where the new values get assigned to Unknown class\n",
        "        :param data_list:\n",
        "        :return:\n",
        "        \"\"\"\n",
        "        new_data_list = list(data_list)\n",
        "        for unique_item in np.unique(data_list):\n",
        "            if unique_item not in self.label_encoder.classes_:\n",
        "                new_data_list = ['Unknown' if x==unique_item else x for x in new_data_list]\n",
        "\n",
        "        return self.label_encoder.transform(new_data_list)"
      ],
      "execution_count": null,
      "outputs": []
    },
    {
      "cell_type": "code",
      "metadata": {
        "id": "8E9fDV1AOt1p"
      },
      "source": [
        "# Why you should not use One Hot Encoding for this,\n",
        "# https://stackoverflow.com/a/51184399/7697658\n",
        "\n",
        "# Embedding categorical data,\n",
        "# https://machinelearningmastery.com/how-to-prepare-categorical-data-for-deep-learning-in-python/\n",
        "def categorical_embeddings(cat_train, cat_test):\n",
        "    \"\"\"\n",
        "    This function will do Label encoding of the categorical feature.\n",
        "    \"\"\"\n",
        "    vocab_size = len(cat_train.unique())+1\n",
        "    le = LabelEncoderExt()\n",
        "    le.fit(cat_train.values)\n",
        "    encoded_train = le.transform(cat_train.values)\n",
        "    encoded_test = le.transform(cat_test.values)\n",
        "\n",
        "    return vocab_size, encoded_train, encoded_test\n",
        "\n",
        "#vocab_size, encoded_train, encoded_test = categorical_embeddings(X_train['project_subject_subcategories'], X_test['project_subject_subcategories'])"
      ],
      "execution_count": null,
      "outputs": []
    },
    {
      "cell_type": "code",
      "metadata": {
        "id": "sDMIBfadrwp8"
      },
      "source": [
        "# How does embedding layer work,\n",
        "# https://stats.stackexchange.com/questions/270546/how-does-keras-embedding-layer-work\n",
        "\n",
        "def text_embeddings(text_train, text_test):\n",
        "    \"\"\"\n",
        "    This function does the tokenizing, padding, creating vocab and creating the embedding matrix for text data\n",
        "    \"\"\"\n",
        "    # Word Tokenizer\n",
        "    tokenizer = Tokenizer()\n",
        "    tokenizer.fit_on_texts(text_train)\n",
        "    encoded_docs_train = tokenizer.texts_to_sequences(text_train)\n",
        "\n",
        "    encoded_docs_test = tokenizer.texts_to_sequences(text_test)\n",
        "\n",
        "    # Getting the 'max len' of doc among the text_train\n",
        "    len_docs = []\n",
        "    for doc in text_train:\n",
        "        splitted_doc = doc.split()\n",
        "        len_docs.append(len(splitted_doc))\n",
        "    max_len_doc = max(len_docs)\n",
        "    #print('max doc len=',max_len_doc) # in terms of words\n",
        "\n",
        "    text_train_padded = pad_sequences(encoded_docs_train, maxlen=max_len_doc, padding='post')\n",
        "    text_test_padded = pad_sequences(encoded_docs_test, maxlen=max_len_doc, padding='post')\n",
        "\n",
        "    vocab_size = len(tokenizer.word_index) + 1\n",
        "    #print(vocab_size)\n",
        "\n",
        "    embeddings_index = dict()\n",
        "    with open('/content/drive/My Drive/Colab Notebooks/Applied AI Assignments/Case Study 1 Mercari Price Suggestion/zzFINAL COMPLETED/FAST TEXT CNN/wiki-news-300d-1M.vec') as f:\n",
        "        for line in f:\n",
        "            w_coef = line.rstrip().rsplit(' ')\n",
        "            word = w_coef[0]\n",
        "            coefs = asarray(w_coef[1:], dtype='float32')\n",
        "            embeddings_index[word]=coefs\n",
        "\n",
        "    embedding_matrix = zeros((vocab_size, 300))\n",
        "    for word, i in tokenizer.word_index.items():\n",
        "        embedding_vector = embeddings_index.get(word)\n",
        "        if embedding_vector is not None:\n",
        "            embedding_matrix[i] = embedding_vector\n",
        "    \n",
        "    return embedding_matrix, vocab_size, max_len_doc, text_train_padded, text_test_padded"
      ],
      "execution_count": null,
      "outputs": []
    },
    {
      "cell_type": "code",
      "metadata": {
        "id": "IRRDVPd-Fi3I"
      },
      "source": [
        "X_train = pd.read_csv('/content/drive/My Drive/Colab Notebooks/Applied AI Assignments/Case Study 1 Mercari Price Suggestion/DL_data/CNN_X_train.csv')\n",
        "X_test = pd.read_csv('/content/drive/My Drive/Colab Notebooks/Applied AI Assignments/Case Study 1 Mercari Price Suggestion/DL_data/CNN_X_test.csv')"
      ],
      "execution_count": null,
      "outputs": []
    },
    {
      "cell_type": "code",
      "metadata": {
        "id": "ACR8rDsDIVxl"
      },
      "source": [
        "####################### Text data ######################\n",
        "_, _, _, _, desc_text_test_padded = text_embeddings(X_train['item_description'].apply(str), X_te_ft_cnn['item_description'].apply(str))\n",
        "_, _, _, _, name_text_test_padded = text_embeddings(X_train['name'].apply(str), X_te_ft_cnn['name'].apply(str))\n",
        "########################################################\n",
        "\n",
        "\n",
        "################### Categorical data ###################\n",
        "_, _, bn_encoded_test = categorical_embeddings(X_train['brand_name'], X_te_ft_cnn['brand_name'])\n",
        "_, _, gc_encoded_test = categorical_embeddings(X_train['general_cat'], X_te_ft_cnn['general_cat'])\n",
        "_, _, sc1_encoded_test = categorical_embeddings(X_train['subcat_1'], X_te_ft_cnn['subcat_1'])\n",
        "_, _, sc2_encoded_test = categorical_embeddings(X_train['subcat_2'], X_te_ft_cnn['subcat_2'])\n",
        "#########################################################\n",
        "\n",
        "\n",
        "################### Numeric data ###################\n",
        "numeric_test_input = pd.concat((X_te_ft_cnn['desc_len'], X_te_ft_cnn['name_len']), axis=1).to_numpy()\n",
        "\n",
        "\n",
        "X_te_cnn_inputs = [desc_text_test_padded, name_text_test_padded, bn_encoded_test, gc_encoded_test, sc1_encoded_test, sc2_encoded_test, tf.one_hot(X_te_ft_cnn['item_condition_id'], 5),\\\n",
        "                tf.one_hot(X_te_ft_cnn['shipping'], 2), tf.one_hot(X_te_ft_cnn['is_expensive'], 2), numeric_test_input]"
      ],
      "execution_count": null,
      "outputs": []
    },
    {
      "cell_type": "markdown",
      "metadata": {
        "id": "DUSuy_wWrg-G"
      },
      "source": [
        "# **SUBMISSION**"
      ]
    },
    {
      "cell_type": "code",
      "metadata": {
        "id": "7hnofIYSWHSs"
      },
      "source": [
        "mlp_model_path = \"/content/drive/My Drive/Colab Notebooks/Applied AI Assignments/Case Study 1 Mercari Price Suggestion/zzFINAL COMPLETED/DL_Ensmeble/Model Checkpoints/Model_MLP_Checkpoints/BEST_MODEL.hdfs\"\n",
        "mlp_model_best = tf.keras.models.load_model(mlp_model_path)"
      ],
      "execution_count": null,
      "outputs": []
    },
    {
      "cell_type": "code",
      "metadata": {
        "id": "Al4NITSAn6jf"
      },
      "source": [
        "cnn_model_path = \"/content/drive/My Drive/Colab Notebooks/Applied AI Assignments/Case Study 1 Mercari Price Suggestion/zzFINAL COMPLETED/DL_Ensmeble/Model Checkpoints/Model_CNN_Checkpoints/BEST_CNN_MODEL.hdfs\"\n",
        "cnn_model_best = tf.keras.models.load_model(cnn_model_path)"
      ],
      "execution_count": null,
      "outputs": []
    },
    {
      "cell_type": "code",
      "metadata": {
        "id": "evodV56ZoGEu"
      },
      "source": [
        "ft_cnn_model_path = \"/content/drive/My Drive/Colab Notebooks/Applied AI Assignments/Case Study 1 Mercari Price Suggestion/zzFINAL COMPLETED/DL_Ensmeble/Model Checkpoints/FAST TEXT CNN/BEST_FT_CNN_MODEL.hdfs\"\n",
        "ft_cnn_model_best = tf.keras.models.load_model(ft_cnn_model_path)"
      ],
      "execution_count": null,
      "outputs": []
    },
    {
      "cell_type": "code",
      "metadata": {
        "id": "x-6wyyJyqeRk"
      },
      "source": [
        "mlp_pred = mlp_model_best.predict(X_te_mlp)\n",
        "cnn_pred = cnn_model_best.predict(X_te_cnn_inputs)\n",
        "ft_cnn_pred = ft_cnn_model_best.predict(X_te_cnn_inputs)\n",
        "\n",
        "mlp_pred = np.exp(mlp_pred)\n",
        "cnn_pred = np.exp(cnn_pred)\n",
        "ft_cnn_pred = np.exp(ft_cnn_pred)"
      ],
      "execution_count": null,
      "outputs": []
    },
    {
      "cell_type": "code",
      "metadata": {
        "id": "_7DEzzyCHO7j"
      },
      "source": [
        "ensemble_pred = (mlp_pred*0.5 + ft_cnn_pred*0.3 + cnn_pred*0.2)\n",
        "\n",
        "ensemble_pred = np.squeeze(ensemble_pred, axis=1)\n",
        "my_submission = pd.DataFrame({'test_id': test['test_id'], 'price': ensemble_pred})\n",
        "my_submission.to_csv(\"/content/drive/My Drive/Colab Notebooks/Applied AI Assignments/Case Study 1 Mercari Price Suggestion/Submission/submission_dl_ensemble.csv\", index=False)"
      ],
      "execution_count": null,
      "outputs": []
    },
    {
      "cell_type": "markdown",
      "metadata": {
        "id": "vb_8L88sBrUO"
      },
      "source": [
        "# **Kaggle Submission Score**"
      ]
    },
    {
      "cell_type": "markdown",
      "metadata": {
        "id": "PfwtRzq-Xpn9"
      },
      "source": [
        "![image.png](data:image/png;base64,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)"
      ]
    },
    {
      "cell_type": "markdown",
      "metadata": {
        "id": "sv3PxA6-XxX7"
      },
      "source": [
        "**65th Position on private leaderboard**"
      ]
    },
    {
      "cell_type": "markdown",
      "metadata": {
        "id": "kb0POMB2Wp22"
      },
      "source": [
        "![image.png](data:image/png;base64,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)"
      ]
    }
  ]
}